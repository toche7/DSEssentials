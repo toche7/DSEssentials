{
  "cells": [
    {
      "cell_type": "markdown",
      "metadata": {
        "id": "view-in-github",
        "colab_type": "text"
      },
      "source": [
        "<a href=\"https://colab.research.google.com/github/toche7/DSEssentials/blob/Solution/Lab5_LogisticRegression_STD.ipynb\" target=\"_parent\"><img src=\"https://colab.research.google.com/assets/colab-badge.svg\" alt=\"Open In Colab\"/></a>"
      ]
    },
    {
      "cell_type": "markdown",
      "metadata": {
        "collapsed": false,
        "id": "Bv38Fj6ch4R5"
      },
      "source": [
        "# Lab 5:  Logistic Regression\n",
        "\n"
      ]
    },
    {
      "cell_type": "markdown",
      "metadata": {
        "collapsed": false,
        "id": "2M_BRNPwokuC"
      },
      "source": [
        "[https://scikit\\-learn.org/stable/modules/generated/sklearn.linear\\_model.LogisticRegression.\n",
        "\n",
        "html\\#sklearn\\-linear\\-model\\-logisticregression](https://scikit-learn.org/stable/modules/generated/sklearn.linear_model.LogisticRegression.html#sklearn-linear-model-logisticregression)\n"
      ]
    },
    {
      "cell_type": "markdown",
      "metadata": {
        "collapsed": false,
        "id": "g3SfcfGmokuC"
      },
      "source": [
        "```\n",
        "from sklearn.linear_model import LogisticRegression\n",
        "lgr = LogisticRegression(random_state=0)\n",
        "lgr.fit(X, y)\n",
        "```\n",
        "\n"
      ]
    },
    {
      "cell_type": "markdown",
      "metadata": {
        "collapsed": false,
        "id": "JUBEtRq2okuD"
      },
      "source": [
        "| Method | Description |\n",
        "| :------------ | :---------------------------------------------------------- |\n",
        "| fit\\(X, y \\) | Fit the model according to the given training data. |\n",
        "| predict\\(X\\) | Predict class labels for samples in X. |\n",
        "| score\\(X, y\\) | Return the mean accuracy on the given test data and labels. |\n",
        "\n"
      ]
    },
    {
      "cell_type": "markdown",
      "metadata": {
        "collapsed": false,
        "id": "bZr0_NAQCCIv"
      },
      "source": [
        "## 1. Introduction Logistic Regression\n",
        "\n",
        "1. https://towardsdatascience.com/understanding-logistic-regression-9b02c2aec102\n",
        "2. https://openclassrooms.com/en/courses/6389626-train-a-supervised-machine-learning-model/6405876-understand-the-logistic-regression-algorithm\n",
        "\n",
        "Dataset\n",
        "\n",
        "* https://www.abzu.ai/explanation/binary-classification/\n",
        "\n"
      ]
    },
    {
      "cell_type": "markdown",
      "metadata": {
        "collapsed": false,
        "id": "kuGFu9mzR-lI"
      },
      "source": [
        "![download (1).png](data:image/png;base64,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)"
      ]
    },
    {
      "cell_type": "markdown",
      "metadata": {
        "collapsed": false,
        "id": "Dw0QRrCnPKIj"
      },
      "source": [
        "\n",
        "| Name |\tTemperature\t| Flu |\n",
        "|------|--------------|-----|\n",
        "|Ernest|\t37.3\t| No\n",
        "|Louise| 37.6\t| Yes\n",
        "| Anna | 37.9\t|Yes\n",
        "|Henrik|\t37.4|\tNo\n",
        "|Elise |\t37.2\t|No\n",
        "|Irene |\t38.8\t|Yes\n",
        "|Casper |\t36.7\t|No\n",
        "|Michael |\t39.5 |Yes\n",
        "|Rashid\t|38.0\t|No\n",
        "|Erik\t|36.9\t| No\n",
        "|Tom\t|38.5 | yes\n",
        "|Jon\t| 39.0\t| yes\n",
        "|Sam\t|38.1\t| yes\n",
        "\n"
      ]
    },
    {
      "cell_type": "markdown",
      "metadata": {
        "collapsed": false,
        "id": "bXfVeFall2-B"
      },
      "source": [
        "เราต้องการสร้างสมการดังนี้\n",
        "\\begin{equation}\n",
        "\\hat{y} = g(b_0 + b_1x)\n",
        "\\end{equation}\n",
        "เมื่อ\n",
        "* $b_0$ เป็นค่าตัดแกน $y$ (interception)\n",
        "* $b_1$ เป็นค่าสัมประสิทธิ (coefficient)\n",
        "* $g(z)$ เป็น sigmoid function ที่ได้มีการนิยามไว้ดังนี้\n",
        "\\begin{equation}\n",
        "g(z) = \\frac{1}{1 + e^{-z}}\n",
        "\\end{equation}"
      ]
    },
    {
      "cell_type": "code",
      "execution_count": 1,
      "metadata": {
        "id": "OEnDhFSar5ca"
      },
      "outputs": [],
      "source": [
        "import numpy as np\n",
        "import matplotlib.pyplot as plt"
      ]
    },
    {
      "cell_type": "code",
      "source": [],
      "metadata": {
        "id": "Npumzp2qwYcL"
      },
      "execution_count": null,
      "outputs": []
    },
    {
      "cell_type": "code",
      "execution_count": 2,
      "metadata": {
        "id": "AewZS5_dTKIn"
      },
      "outputs": [],
      "source": [
        "def sigmoid(t):\n",
        "  return (1/(1 + np.exp(-t)))"
      ]
    },
    {
      "cell_type": "code",
      "execution_count": 5,
      "metadata": {
        "id": "1M14hFkFTahx",
        "colab": {
          "base_uri": "https://localhost:8080/"
        },
        "outputId": "156e3b23-e299-45af-8a48-1855903a8524"
      },
      "outputs": [
        {
          "output_type": "execute_result",
          "data": {
            "text/plain": [
              "array([-2.00000000e+01, -1.98000000e+01, -1.96000000e+01, -1.94000000e+01,\n",
              "       -1.92000000e+01, -1.90000000e+01, -1.88000000e+01, -1.86000000e+01,\n",
              "       -1.84000000e+01, -1.82000000e+01, -1.80000000e+01, -1.78000000e+01,\n",
              "       -1.76000000e+01, -1.74000000e+01, -1.72000000e+01, -1.70000000e+01,\n",
              "       -1.68000000e+01, -1.66000000e+01, -1.64000000e+01, -1.62000000e+01,\n",
              "       -1.60000000e+01, -1.58000000e+01, -1.56000000e+01, -1.54000000e+01,\n",
              "       -1.52000000e+01, -1.50000000e+01, -1.48000000e+01, -1.46000000e+01,\n",
              "       -1.44000000e+01, -1.42000000e+01, -1.40000000e+01, -1.38000000e+01,\n",
              "       -1.36000000e+01, -1.34000000e+01, -1.32000000e+01, -1.30000000e+01,\n",
              "       -1.28000000e+01, -1.26000000e+01, -1.24000000e+01, -1.22000000e+01,\n",
              "       -1.20000000e+01, -1.18000000e+01, -1.16000000e+01, -1.14000000e+01,\n",
              "       -1.12000000e+01, -1.10000000e+01, -1.08000000e+01, -1.06000000e+01,\n",
              "       -1.04000000e+01, -1.02000000e+01, -1.00000000e+01, -9.80000000e+00,\n",
              "       -9.60000000e+00, -9.40000000e+00, -9.20000000e+00, -9.00000000e+00,\n",
              "       -8.80000000e+00, -8.60000000e+00, -8.40000000e+00, -8.20000000e+00,\n",
              "       -8.00000000e+00, -7.80000000e+00, -7.60000000e+00, -7.40000000e+00,\n",
              "       -7.20000000e+00, -7.00000000e+00, -6.80000000e+00, -6.60000000e+00,\n",
              "       -6.40000000e+00, -6.20000000e+00, -6.00000000e+00, -5.80000000e+00,\n",
              "       -5.60000000e+00, -5.40000000e+00, -5.20000000e+00, -5.00000000e+00,\n",
              "       -4.80000000e+00, -4.60000000e+00, -4.40000000e+00, -4.20000000e+00,\n",
              "       -4.00000000e+00, -3.80000000e+00, -3.60000000e+00, -3.40000000e+00,\n",
              "       -3.20000000e+00, -3.00000000e+00, -2.80000000e+00, -2.60000000e+00,\n",
              "       -2.40000000e+00, -2.20000000e+00, -2.00000000e+00, -1.80000000e+00,\n",
              "       -1.60000000e+00, -1.40000000e+00, -1.20000000e+00, -1.00000000e+00,\n",
              "       -8.00000000e-01, -6.00000000e-01, -4.00000000e-01, -2.00000000e-01,\n",
              "       -7.10542736e-14,  2.00000000e-01,  4.00000000e-01,  6.00000000e-01,\n",
              "        8.00000000e-01,  1.00000000e+00,  1.20000000e+00,  1.40000000e+00,\n",
              "        1.60000000e+00,  1.80000000e+00,  2.00000000e+00,  2.20000000e+00,\n",
              "        2.40000000e+00,  2.60000000e+00,  2.80000000e+00,  3.00000000e+00,\n",
              "        3.20000000e+00,  3.40000000e+00,  3.60000000e+00,  3.80000000e+00,\n",
              "        4.00000000e+00,  4.20000000e+00,  4.40000000e+00,  4.60000000e+00,\n",
              "        4.80000000e+00,  5.00000000e+00,  5.20000000e+00,  5.40000000e+00,\n",
              "        5.60000000e+00,  5.80000000e+00,  6.00000000e+00,  6.20000000e+00,\n",
              "        6.40000000e+00,  6.60000000e+00,  6.80000000e+00,  7.00000000e+00,\n",
              "        7.20000000e+00,  7.40000000e+00,  7.60000000e+00,  7.80000000e+00,\n",
              "        8.00000000e+00,  8.20000000e+00,  8.40000000e+00,  8.60000000e+00,\n",
              "        8.80000000e+00,  9.00000000e+00,  9.20000000e+00,  9.40000000e+00,\n",
              "        9.60000000e+00,  9.80000000e+00,  1.00000000e+01,  1.02000000e+01,\n",
              "        1.04000000e+01,  1.06000000e+01,  1.08000000e+01,  1.10000000e+01,\n",
              "        1.12000000e+01,  1.14000000e+01,  1.16000000e+01,  1.18000000e+01,\n",
              "        1.20000000e+01,  1.22000000e+01,  1.24000000e+01,  1.26000000e+01,\n",
              "        1.28000000e+01,  1.30000000e+01,  1.32000000e+01,  1.34000000e+01,\n",
              "        1.36000000e+01,  1.38000000e+01,  1.40000000e+01,  1.42000000e+01,\n",
              "        1.44000000e+01,  1.46000000e+01,  1.48000000e+01,  1.50000000e+01,\n",
              "        1.52000000e+01,  1.54000000e+01,  1.56000000e+01,  1.58000000e+01,\n",
              "        1.60000000e+01,  1.62000000e+01,  1.64000000e+01,  1.66000000e+01,\n",
              "        1.68000000e+01,  1.70000000e+01,  1.72000000e+01,  1.74000000e+01,\n",
              "        1.76000000e+01,  1.78000000e+01,  1.80000000e+01,  1.82000000e+01,\n",
              "        1.84000000e+01,  1.86000000e+01,  1.88000000e+01,  1.90000000e+01,\n",
              "        1.92000000e+01,  1.94000000e+01,  1.96000000e+01,  1.98000000e+01])"
            ]
          },
          "metadata": {},
          "execution_count": 5
        }
      ],
      "source": [
        "z = np.arange(-20,20,0.2)\n",
        "z"
      ]
    },
    {
      "cell_type": "code",
      "execution_count": 7,
      "metadata": {
        "id": "R1zI8YV6TpDc",
        "colab": {
          "base_uri": "https://localhost:8080/",
          "height": 469
        },
        "outputId": "d472a6d8-a807-449f-c48a-6606c5a50293"
      },
      "outputs": [
        {
          "output_type": "display_data",
          "data": {
            "text/plain": [
              "<Figure size 640x480 with 1 Axes>"
            ],
            "image/png": "[encoded data removed]"
          },
          "metadata": {}
        }
      ],
      "source": [
        "#plt.plot(z,z,'-b')\n",
        "plt.plot(z, sigmoid(z),'-r')\n",
        "plt.xlabel('z');\n",
        "plt.ylabel('g(z)');"
      ]
    },
    {
      "cell_type": "markdown",
      "metadata": {
        "collapsed": false,
        "id": "4GuhrLDFTJun"
      },
      "source": []
    },
    {
      "cell_type": "markdown",
      "metadata": {
        "collapsed": false,
        "id": "TG__SgDro1Vx"
      },
      "source": [
        "### 1.1 Data Loading and EDA\n",
        "\n"
      ]
    },
    {
      "cell_type": "code",
      "execution_count": 19,
      "metadata": {
        "id": "a2TsFM7TL_m6"
      },
      "outputs": [],
      "source": [
        "import numpy as np\n",
        "import matplotlib.pyplot as plt\n",
        "\n",
        "Temp = [[37.3, 37.6, 37.9, 37.4, 37.2, 38.8, 36.7, 39.5, 38.0 , 36.9, 38.5, 39.0, 38.1]]\n",
        "flu = [   0,    1,    0,    0,    0,    1,    0,    1,    0,     0, 1,  1, 1]\n",
        "X = np.array(Temp).T\n",
        "y = np.array(flu)"
      ]
    },
    {
      "cell_type": "code",
      "source": [
        "X"
      ],
      "metadata": {
        "id": "f6tgmHaLpkh9",
        "colab": {
          "base_uri": "https://localhost:8080/"
        },
        "outputId": "0a648a18-5e3b-4d5b-ff8b-d595fd38c451"
      },
      "execution_count": 16,
      "outputs": [
        {
          "output_type": "execute_result",
          "data": {
            "text/plain": [
              "array([[37.3],\n",
              "       [37.6],\n",
              "       [37.9],\n",
              "       [37.4],\n",
              "       [37.2],\n",
              "       [38.8],\n",
              "       [36.7],\n",
              "       [39.5],\n",
              "       [38. ],\n",
              "       [36.9],\n",
              "       [38.5],\n",
              "       [39. ],\n",
              "       [38.1]])"
            ]
          },
          "metadata": {},
          "execution_count": 16
        }
      ]
    },
    {
      "cell_type": "code",
      "source": [
        "len(X)"
      ],
      "metadata": {
        "colab": {
          "base_uri": "https://localhost:8080/"
        },
        "id": "jxmxg2Mi1wJv",
        "outputId": "b06b96f9-425c-4a30-e875-8696d4bd8d84"
      },
      "execution_count": 11,
      "outputs": [
        {
          "output_type": "execute_result",
          "data": {
            "text/plain": [
              "13"
            ]
          },
          "metadata": {},
          "execution_count": 11
        }
      ]
    },
    {
      "cell_type": "code",
      "source": [
        "y"
      ],
      "metadata": {
        "id": "zWKStmCnpkem",
        "colab": {
          "base_uri": "https://localhost:8080/"
        },
        "outputId": "e523e7df-22ba-4774-bb5e-e1011cb5f166"
      },
      "execution_count": 18,
      "outputs": [
        {
          "output_type": "execute_result",
          "data": {
            "text/plain": [
              "array([0, 1, 0, 0, 0, 1, 0, 1, 0, 0, 1, 1, 1])"
            ]
          },
          "metadata": {},
          "execution_count": 18
        }
      ]
    },
    {
      "cell_type": "code",
      "source": [],
      "metadata": {
        "id": "sWOglSbapkaw"
      },
      "execution_count": null,
      "outputs": []
    },
    {
      "cell_type": "code",
      "execution_count": 20,
      "metadata": {
        "id": "W0_yWhcufge2",
        "colab": {
          "base_uri": "https://localhost:8080/",
          "height": 450
        },
        "outputId": "395a3240-a904-47eb-bb62-19328e2fd00f"
      },
      "outputs": [
        {
          "output_type": "display_data",
          "data": {
            "text/plain": [
              "<Figure size 640x480 with 1 Axes>"
            ],
            "image/png": "[encoded data removed]"
          },
          "metadata": {}
        }
      ],
      "source": [
        "plt.plot(X,y,'or')\n",
        "plt.grid(visible = True)"
      ]
    },
    {
      "cell_type": "markdown",
      "metadata": {
        "collapsed": false,
        "id": "zuxu3GoVA1gb"
      },
      "source": [
        "### 1.2 Create Model Object and Train Model\n",
        "\n"
      ]
    },
    {
      "cell_type": "code",
      "execution_count": 21,
      "metadata": {
        "id": "bYNXpU5MMEcw"
      },
      "outputs": [],
      "source": [
        "from sklearn.linear_model import LogisticRegression\n",
        "lgR =  LogisticRegression()"
      ]
    },
    {
      "cell_type": "code",
      "source": [
        "lgR.fit(X,y)"
      ],
      "metadata": {
        "id": "HG-xTRqFpuPD",
        "colab": {
          "base_uri": "https://localhost:8080/",
          "height": 99
        },
        "outputId": "031e4da8-7ffe-468b-c325-60fb17b0c249"
      },
      "execution_count": 22,
      "outputs": [
        {
          "output_type": "execute_result",
          "data": {
            "text/plain": [
              "LogisticRegression()"
            ],
            "text/html": [
              "<style>#sk-container-id-1 {\n",
              "  /* Definition of color scheme common for light and dark mode */\n",
              "  --sklearn-color-text: #000;\n",
              "  --sklearn-color-text-muted: #666;\n",
              "  --sklearn-color-line: gray;\n",
              "  /* Definition of color scheme for unfitted estimators */\n",
              "  --sklearn-color-unfitted-level-0: #fff5e6;\n",
              "  --sklearn-color-unfitted-level-1: #f6e4d2;\n",
              "  --sklearn-color-unfitted-level-2: #ffe0b3;\n",
              "  --sklearn-color-unfitted-level-3: chocolate;\n",
              "  /* Definition of color scheme for fitted estimators */\n",
              "  --sklearn-color-fitted-level-0: #f0f8ff;\n",
              "  --sklearn-color-fitted-level-1: #d4ebff;\n",
              "  --sklearn-color-fitted-level-2: #b3dbfd;\n",
              "  --sklearn-color-fitted-level-3: cornflowerblue;\n",
              "\n",
              "  /* Specific color for light theme */\n",
              "  --sklearn-color-text-on-default-background: var(--sg-text-color, var(--theme-code-foreground, var(--jp-content-font-color1, black)));\n",
              "  --sklearn-color-background: var(--sg-background-color, var(--theme-background, var(--jp-layout-color0, white)));\n",
              "  --sklearn-color-border-box: var(--sg-text-color, var(--theme-code-foreground, var(--jp-content-font-color1, black)));\n",
              "  --sklearn-color-icon: #696969;\n",
              "\n",
              "  @media (prefers-color-scheme: dark) {\n",
              "    /* Redefinition of color scheme for dark theme */\n",
              "    --sklearn-color-text-on-default-background: var(--sg-text-color, var(--theme-code-foreground, var(--jp-content-font-color1, white)));\n",
              "    --sklearn-color-background: var(--sg-background-color, var(--theme-background, var(--jp-layout-color0, #111)));\n",
              "    --sklearn-color-border-box: var(--sg-text-color, var(--theme-code-foreground, var(--jp-content-font-color1, white)));\n",
              "    --sklearn-color-icon: #878787;\n",
              "  }\n",
              "}\n",
              "\n",
              "#sk-container-id-1 {\n",
              "  color: var(--sklearn-color-text);\n",
              "}\n",
              "\n",
              "#sk-container-id-1 pre {\n",
              "  padding: 0;\n",
              "}\n",
              "\n",
              "#sk-container-id-1 input.sk-hidden--visually {\n",
              "  border: 0;\n",
              "  clip: rect(1px 1px 1px 1px);\n",
              "  clip: rect(1px, 1px, 1px, 1px);\n",
              "  height: 1px;\n",
              "  margin: -1px;\n",
              "  overflow: hidden;\n",
              "  padding: 0;\n",
              "  position: absolute;\n",
              "  width: 1px;\n",
              "}\n",
              "\n",
              "#sk-container-id-1 div.sk-dashed-wrapped {\n",
              "  border: 1px dashed var(--sklearn-color-line);\n",
              "  margin: 0 0.4em 0.5em 0.4em;\n",
              "  box-sizing: border-box;\n",
              "  padding-bottom: 0.4em;\n",
              "  background-color: var(--sklearn-color-background);\n",
              "}\n",
              "\n",
              "#sk-container-id-1 div.sk-container {\n",
              "  /* jupyter's `normalize.less` sets `[hidden] { display: none; }`\n",
              "     but bootstrap.min.css set `[hidden] { display: none !important; }`\n",
              "     so we also need the `!important` here to be able to override the\n",
              "     default hidden behavior on the sphinx rendered scikit-learn.org.\n",
              "     See: https://github.com/scikit-learn/scikit-learn/issues/21755 */\n",
              "  display: inline-block !important;\n",
              "  position: relative;\n",
              "}\n",
              "\n",
              "#sk-container-id-1 div.sk-text-repr-fallback {\n",
              "  display: none;\n",
              "}\n",
              "\n",
              "div.sk-parallel-item,\n",
              "div.sk-serial,\n",
              "div.sk-item {\n",
              "  /* draw centered vertical line to link estimators */\n",
              "  background-image: linear-gradient(var(--sklearn-color-text-on-default-background), var(--sklearn-color-text-on-default-background));\n",
              "  background-size: 2px 100%;\n",
              "  background-repeat: no-repeat;\n",
              "  background-position: center center;\n",
              "}\n",
              "\n",
              "/* Parallel-specific style estimator block */\n",
              "\n",
              "#sk-container-id-1 div.sk-parallel-item::after {\n",
              "  content: \"\";\n",
              "  width: 100%;\n",
              "  border-bottom: 2px solid var(--sklearn-color-text-on-default-background);\n",
              "  flex-grow: 1;\n",
              "}\n",
              "\n",
              "#sk-container-id-1 div.sk-parallel {\n",
              "  display: flex;\n",
              "  align-items: stretch;\n",
              "  justify-content: center;\n",
              "  background-color: var(--sklearn-color-background);\n",
              "  position: relative;\n",
              "}\n",
              "\n",
              "#sk-container-id-1 div.sk-parallel-item {\n",
              "  display: flex;\n",
              "  flex-direction: column;\n",
              "}\n",
              "\n",
              "#sk-container-id-1 div.sk-parallel-item:first-child::after {\n",
              "  align-self: flex-end;\n",
              "  width: 50%;\n",
              "}\n",
              "\n",
              "#sk-container-id-1 div.sk-parallel-item:last-child::after {\n",
              "  align-self: flex-start;\n",
              "  width: 50%;\n",
              "}\n",
              "\n",
              "#sk-container-id-1 div.sk-parallel-item:only-child::after {\n",
              "  width: 0;\n",
              "}\n",
              "\n",
              "/* Serial-specific style estimator block */\n",
              "\n",
              "#sk-container-id-1 div.sk-serial {\n",
              "  display: flex;\n",
              "  flex-direction: column;\n",
              "  align-items: center;\n",
              "  background-color: var(--sklearn-color-background);\n",
              "  padding-right: 1em;\n",
              "  padding-left: 1em;\n",
              "}\n",
              "\n",
              "\n",
              "/* Toggleable style: style used for estimator/Pipeline/ColumnTransformer box that is\n",
              "clickable and can be expanded/collapsed.\n",
              "- Pipeline and ColumnTransformer use this feature and define the default style\n",
              "- Estimators will overwrite some part of the style using the `sk-estimator` class\n",
              "*/\n",
              "\n",
              "/* Pipeline and ColumnTransformer style (default) */\n",
              "\n",
              "#sk-container-id-1 div.sk-toggleable {\n",
              "  /* Default theme specific background. It is overwritten whether we have a\n",
              "  specific estimator or a Pipeline/ColumnTransformer */\n",
              "  background-color: var(--sklearn-color-background);\n",
              "}\n",
              "\n",
              "/* Toggleable label */\n",
              "#sk-container-id-1 label.sk-toggleable__label {\n",
              "  cursor: pointer;\n",
              "  display: flex;\n",
              "  width: 100%;\n",
              "  margin-bottom: 0;\n",
              "  padding: 0.5em;\n",
              "  box-sizing: border-box;\n",
              "  text-align: center;\n",
              "  align-items: start;\n",
              "  justify-content: space-between;\n",
              "  gap: 0.5em;\n",
              "}\n",
              "\n",
              "#sk-container-id-1 label.sk-toggleable__label .caption {\n",
              "  font-size: 0.6rem;\n",
              "  font-weight: lighter;\n",
              "  color: var(--sklearn-color-text-muted);\n",
              "}\n",
              "\n",
              "#sk-container-id-1 label.sk-toggleable__label-arrow:before {\n",
              "  /* Arrow on the left of the label */\n",
              "  content: \"▸\";\n",
              "  float: left;\n",
              "  margin-right: 0.25em;\n",
              "  color: var(--sklearn-color-icon);\n",
              "}\n",
              "\n",
              "#sk-container-id-1 label.sk-toggleable__label-arrow:hover:before {\n",
              "  color: var(--sklearn-color-text);\n",
              "}\n",
              "\n",
              "/* Toggleable content - dropdown */\n",
              "\n",
              "#sk-container-id-1 div.sk-toggleable__content {\n",
              "  max-height: 0;\n",
              "  max-width: 0;\n",
              "  overflow: hidden;\n",
              "  text-align: left;\n",
              "  /* unfitted */\n",
              "  background-color: var(--sklearn-color-unfitted-level-0);\n",
              "}\n",
              "\n",
              "#sk-container-id-1 div.sk-toggleable__content.fitted {\n",
              "  /* fitted */\n",
              "  background-color: var(--sklearn-color-fitted-level-0);\n",
              "}\n",
              "\n",
              "#sk-container-id-1 div.sk-toggleable__content pre {\n",
              "  margin: 0.2em;\n",
              "  border-radius: 0.25em;\n",
              "  color: var(--sklearn-color-text);\n",
              "  /* unfitted */\n",
              "  background-color: var(--sklearn-color-unfitted-level-0);\n",
              "}\n",
              "\n",
              "#sk-container-id-1 div.sk-toggleable__content.fitted pre {\n",
              "  /* unfitted */\n",
              "  background-color: var(--sklearn-color-fitted-level-0);\n",
              "}\n",
              "\n",
              "#sk-container-id-1 input.sk-toggleable__control:checked~div.sk-toggleable__content {\n",
              "  /* Expand drop-down */\n",
              "  max-height: 200px;\n",
              "  max-width: 100%;\n",
              "  overflow: auto;\n",
              "}\n",
              "\n",
              "#sk-container-id-1 input.sk-toggleable__control:checked~label.sk-toggleable__label-arrow:before {\n",
              "  content: \"▾\";\n",
              "}\n",
              "\n",
              "/* Pipeline/ColumnTransformer-specific style */\n",
              "\n",
              "#sk-container-id-1 div.sk-label input.sk-toggleable__control:checked~label.sk-toggleable__label {\n",
              "  color: var(--sklearn-color-text);\n",
              "  background-color: var(--sklearn-color-unfitted-level-2);\n",
              "}\n",
              "\n",
              "#sk-container-id-1 div.sk-label.fitted input.sk-toggleable__control:checked~label.sk-toggleable__label {\n",
              "  background-color: var(--sklearn-color-fitted-level-2);\n",
              "}\n",
              "\n",
              "/* Estimator-specific style */\n",
              "\n",
              "/* Colorize estimator box */\n",
              "#sk-container-id-1 div.sk-estimator input.sk-toggleable__control:checked~label.sk-toggleable__label {\n",
              "  /* unfitted */\n",
              "  background-color: var(--sklearn-color-unfitted-level-2);\n",
              "}\n",
              "\n",
              "#sk-container-id-1 div.sk-estimator.fitted input.sk-toggleable__control:checked~label.sk-toggleable__label {\n",
              "  /* fitted */\n",
              "  background-color: var(--sklearn-color-fitted-level-2);\n",
              "}\n",
              "\n",
              "#sk-container-id-1 div.sk-label label.sk-toggleable__label,\n",
              "#sk-container-id-1 div.sk-label label {\n",
              "  /* The background is the default theme color */\n",
              "  color: var(--sklearn-color-text-on-default-background);\n",
              "}\n",
              "\n",
              "/* On hover, darken the color of the background */\n",
              "#sk-container-id-1 div.sk-label:hover label.sk-toggleable__label {\n",
              "  color: var(--sklearn-color-text);\n",
              "  background-color: var(--sklearn-color-unfitted-level-2);\n",
              "}\n",
              "\n",
              "/* Label box, darken color on hover, fitted */\n",
              "#sk-container-id-1 div.sk-label.fitted:hover label.sk-toggleable__label.fitted {\n",
              "  color: var(--sklearn-color-text);\n",
              "  background-color: var(--sklearn-color-fitted-level-2);\n",
              "}\n",
              "\n",
              "/* Estimator label */\n",
              "\n",
              "#sk-container-id-1 div.sk-label label {\n",
              "  font-family: monospace;\n",
              "  font-weight: bold;\n",
              "  display: inline-block;\n",
              "  line-height: 1.2em;\n",
              "}\n",
              "\n",
              "#sk-container-id-1 div.sk-label-container {\n",
              "  text-align: center;\n",
              "}\n",
              "\n",
              "/* Estimator-specific */\n",
              "#sk-container-id-1 div.sk-estimator {\n",
              "  font-family: monospace;\n",
              "  border: 1px dotted var(--sklearn-color-border-box);\n",
              "  border-radius: 0.25em;\n",
              "  box-sizing: border-box;\n",
              "  margin-bottom: 0.5em;\n",
              "  /* unfitted */\n",
              "  background-color: var(--sklearn-color-unfitted-level-0);\n",
              "}\n",
              "\n",
              "#sk-container-id-1 div.sk-estimator.fitted {\n",
              "  /* fitted */\n",
              "  background-color: var(--sklearn-color-fitted-level-0);\n",
              "}\n",
              "\n",
              "/* on hover */\n",
              "#sk-container-id-1 div.sk-estimator:hover {\n",
              "  /* unfitted */\n",
              "  background-color: var(--sklearn-color-unfitted-level-2);\n",
              "}\n",
              "\n",
              "#sk-container-id-1 div.sk-estimator.fitted:hover {\n",
              "  /* fitted */\n",
              "  background-color: var(--sklearn-color-fitted-level-2);\n",
              "}\n",
              "\n",
              "/* Specification for estimator info (e.g. \"i\" and \"?\") */\n",
              "\n",
              "/* Common style for \"i\" and \"?\" */\n",
              "\n",
              ".sk-estimator-doc-link,\n",
              "a:link.sk-estimator-doc-link,\n",
              "a:visited.sk-estimator-doc-link {\n",
              "  float: right;\n",
              "  font-size: smaller;\n",
              "  line-height: 1em;\n",
              "  font-family: monospace;\n",
              "  background-color: var(--sklearn-color-background);\n",
              "  border-radius: 1em;\n",
              "  height: 1em;\n",
              "  width: 1em;\n",
              "  text-decoration: none !important;\n",
              "  margin-left: 0.5em;\n",
              "  text-align: center;\n",
              "  /* unfitted */\n",
              "  border: var(--sklearn-color-unfitted-level-1) 1pt solid;\n",
              "  color: var(--sklearn-color-unfitted-level-1);\n",
              "}\n",
              "\n",
              ".sk-estimator-doc-link.fitted,\n",
              "a:link.sk-estimator-doc-link.fitted,\n",
              "a:visited.sk-estimator-doc-link.fitted {\n",
              "  /* fitted */\n",
              "  border: var(--sklearn-color-fitted-level-1) 1pt solid;\n",
              "  color: var(--sklearn-color-fitted-level-1);\n",
              "}\n",
              "\n",
              "/* On hover */\n",
              "div.sk-estimator:hover .sk-estimator-doc-link:hover,\n",
              ".sk-estimator-doc-link:hover,\n",
              "div.sk-label-container:hover .sk-estimator-doc-link:hover,\n",
              ".sk-estimator-doc-link:hover {\n",
              "  /* unfitted */\n",
              "  background-color: var(--sklearn-color-unfitted-level-3);\n",
              "  color: var(--sklearn-color-background);\n",
              "  text-decoration: none;\n",
              "}\n",
              "\n",
              "div.sk-estimator.fitted:hover .sk-estimator-doc-link.fitted:hover,\n",
              ".sk-estimator-doc-link.fitted:hover,\n",
              "div.sk-label-container:hover .sk-estimator-doc-link.fitted:hover,\n",
              ".sk-estimator-doc-link.fitted:hover {\n",
              "  /* fitted */\n",
              "  background-color: var(--sklearn-color-fitted-level-3);\n",
              "  color: var(--sklearn-color-background);\n",
              "  text-decoration: none;\n",
              "}\n",
              "\n",
              "/* Span, style for the box shown on hovering the info icon */\n",
              ".sk-estimator-doc-link span {\n",
              "  display: none;\n",
              "  z-index: 9999;\n",
              "  position: relative;\n",
              "  font-weight: normal;\n",
              "  right: .2ex;\n",
              "  padding: .5ex;\n",
              "  margin: .5ex;\n",
              "  width: min-content;\n",
              "  min-width: 20ex;\n",
              "  max-width: 50ex;\n",
              "  color: var(--sklearn-color-text);\n",
              "  box-shadow: 2pt 2pt 4pt #999;\n",
              "  /* unfitted */\n",
              "  background: var(--sklearn-color-unfitted-level-0);\n",
              "  border: .5pt solid var(--sklearn-color-unfitted-level-3);\n",
              "}\n",
              "\n",
              ".sk-estimator-doc-link.fitted span {\n",
              "  /* fitted */\n",
              "  background: var(--sklearn-color-fitted-level-0);\n",
              "  border: var(--sklearn-color-fitted-level-3);\n",
              "}\n",
              "\n",
              ".sk-estimator-doc-link:hover span {\n",
              "  display: block;\n",
              "}\n",
              "\n",
              "/* \"?\"-specific style due to the `<a>` HTML tag */\n",
              "\n",
              "#sk-container-id-1 a.estimator_doc_link {\n",
              "  float: right;\n",
              "  font-size: 1rem;\n",
              "  line-height: 1em;\n",
              "  font-family: monospace;\n",
              "  background-color: var(--sklearn-color-background);\n",
              "  border-radius: 1rem;\n",
              "  height: 1rem;\n",
              "  width: 1rem;\n",
              "  text-decoration: none;\n",
              "  /* unfitted */\n",
              "  color: var(--sklearn-color-unfitted-level-1);\n",
              "  border: var(--sklearn-color-unfitted-level-1) 1pt solid;\n",
              "}\n",
              "\n",
              "#sk-container-id-1 a.estimator_doc_link.fitted {\n",
              "  /* fitted */\n",
              "  border: var(--sklearn-color-fitted-level-1) 1pt solid;\n",
              "  color: var(--sklearn-color-fitted-level-1);\n",
              "}\n",
              "\n",
              "/* On hover */\n",
              "#sk-container-id-1 a.estimator_doc_link:hover {\n",
              "  /* unfitted */\n",
              "  background-color: var(--sklearn-color-unfitted-level-3);\n",
              "  color: var(--sklearn-color-background);\n",
              "  text-decoration: none;\n",
              "}\n",
              "\n",
              "#sk-container-id-1 a.estimator_doc_link.fitted:hover {\n",
              "  /* fitted */\n",
              "  background-color: var(--sklearn-color-fitted-level-3);\n",
              "}\n",
              "</style><div id=\"sk-container-id-1\" class=\"sk-top-container\"><div class=\"sk-text-repr-fallback\"><pre>LogisticRegression()</pre><b>In a Jupyter environment, please rerun this cell to show the HTML representation or trust the notebook. <br />On GitHub, the HTML representation is unable to render, please try loading this page with nbviewer.org.</b></div><div class=\"sk-container\" hidden><div class=\"sk-item\"><div class=\"sk-estimator fitted sk-toggleable\"><input class=\"sk-toggleable__control sk-hidden--visually\" id=\"sk-estimator-id-1\" type=\"checkbox\" checked><label for=\"sk-estimator-id-1\" class=\"sk-toggleable__label fitted sk-toggleable__label-arrow\"><div><div>LogisticRegression</div></div><div><a class=\"sk-estimator-doc-link fitted\" rel=\"noreferrer\" target=\"_blank\" href=\"https://scikit-learn.org/1.6/modules/generated/sklearn.linear_model.LogisticRegression.html\">?<span>Documentation for LogisticRegression</span></a><span class=\"sk-estimator-doc-link fitted\">i<span>Fitted</span></span></div></label><div class=\"sk-toggleable__content fitted\"><pre>LogisticRegression()</pre></div> </div></div></div></div>"
            ]
          },
          "metadata": {},
          "execution_count": 22
        }
      ]
    },
    {
      "cell_type": "code",
      "source": [],
      "metadata": {
        "id": "66tCuTeypuLg"
      },
      "execution_count": null,
      "outputs": []
    },
    {
      "cell_type": "code",
      "source": [],
      "metadata": {
        "id": "SseBUCPWpuIK"
      },
      "execution_count": null,
      "outputs": []
    },
    {
      "cell_type": "markdown",
      "metadata": {
        "collapsed": false,
        "id": "bSlRGloGokuK"
      },
      "source": [
        "### 1.3 Apply Model"
      ]
    },
    {
      "cell_type": "code",
      "source": [
        "lgR.predict(X)"
      ],
      "metadata": {
        "id": "4v2bVv17p68V",
        "colab": {
          "base_uri": "https://localhost:8080/"
        },
        "outputId": "93585d9c-19af-4e33-a226-574df91f7929"
      },
      "execution_count": 23,
      "outputs": [
        {
          "output_type": "execute_result",
          "data": {
            "text/plain": [
              "array([0, 0, 0, 0, 0, 1, 0, 1, 0, 0, 1, 1, 1])"
            ]
          },
          "metadata": {},
          "execution_count": 23
        }
      ]
    },
    {
      "cell_type": "code",
      "source": [
        "y"
      ],
      "metadata": {
        "id": "2SdL3bENp64k",
        "colab": {
          "base_uri": "https://localhost:8080/"
        },
        "outputId": "53eaff5f-b571-41f9-e560-d71093847acb"
      },
      "execution_count": 25,
      "outputs": [
        {
          "output_type": "execute_result",
          "data": {
            "text/plain": [
              "array([0, 1, 0, 0, 0, 1, 0, 1, 0, 0, 1, 1, 1])"
            ]
          },
          "metadata": {},
          "execution_count": 25
        }
      ]
    },
    {
      "cell_type": "code",
      "source": [],
      "metadata": {
        "id": "dk0VRvOKp61L"
      },
      "execution_count": null,
      "outputs": []
    },
    {
      "cell_type": "code",
      "source": [],
      "metadata": {
        "id": "WXt6S-5Lp6xc"
      },
      "execution_count": null,
      "outputs": []
    },
    {
      "cell_type": "markdown",
      "metadata": {
        "collapsed": false,
        "id": "cuiIhqOPEYeZ"
      },
      "source": [
        "### 1.4 Performance\n"
      ]
    },
    {
      "cell_type": "code",
      "source": [
        "lgR.score(X,y)"
      ],
      "metadata": {
        "id": "eR7gEfwpqFoo",
        "colab": {
          "base_uri": "https://localhost:8080/"
        },
        "outputId": "968af87c-7663-4372-e006-4c9ea7126f7d"
      },
      "execution_count": 24,
      "outputs": [
        {
          "output_type": "execute_result",
          "data": {
            "text/plain": [
              "0.9230769230769231"
            ]
          },
          "metadata": {},
          "execution_count": 24
        }
      ]
    },
    {
      "cell_type": "code",
      "source": [
        "12/13"
      ],
      "metadata": {
        "id": "-d8KZRLOqFXi",
        "colab": {
          "base_uri": "https://localhost:8080/"
        },
        "outputId": "d4697227-ee01-45a5-d133-edbe90541fb5"
      },
      "execution_count": 26,
      "outputs": [
        {
          "output_type": "execute_result",
          "data": {
            "text/plain": [
              "0.9230769230769231"
            ]
          },
          "metadata": {},
          "execution_count": 26
        }
      ]
    },
    {
      "cell_type": "code",
      "source": [
        "theta0= lgR.intercept_"
      ],
      "metadata": {
        "id": "e-FOeaRMqFUB"
      },
      "execution_count": 29,
      "outputs": []
    },
    {
      "cell_type": "code",
      "source": [
        "theta1 = lgR.coef_"
      ],
      "metadata": {
        "id": "py0uKR6gqFQa"
      },
      "execution_count": 30,
      "outputs": []
    },
    {
      "cell_type": "code",
      "execution_count": 31,
      "metadata": {
        "id": "eSGshVaOMpkL"
      },
      "outputs": [],
      "source": [
        "fz = theta0 + theta1*X"
      ]
    },
    {
      "cell_type": "code",
      "execution_count": 32,
      "metadata": {
        "id": "Il_xKJU2okuM",
        "colab": {
          "base_uri": "https://localhost:8080/"
        },
        "outputId": "d6635ac7-2bc1-4646-db57-73fe49e23420"
      },
      "outputs": [
        {
          "output_type": "execute_result",
          "data": {
            "text/plain": [
              "array([[-1.05238005],\n",
              "       [-0.61946722],\n",
              "       [-0.1865544 ],\n",
              "       [-0.90807577],\n",
              "       [-1.19668432],\n",
              "       [ 1.11218407],\n",
              "       [-1.91820569],\n",
              "       [ 2.12231399],\n",
              "       [-0.04225013],\n",
              "       [-1.62959714],\n",
              "       [ 0.67927125],\n",
              "       [ 1.40079262],\n",
              "       [ 0.10205415]])"
            ]
          },
          "metadata": {},
          "execution_count": 32
        }
      ],
      "source": [
        "fz"
      ]
    },
    {
      "cell_type": "code",
      "execution_count": 34,
      "metadata": {
        "id": "qe8WEvk2okuO",
        "colab": {
          "base_uri": "https://localhost:8080/"
        },
        "outputId": "2cc4393e-2548-47da-dd5b-67f465a88b75"
      },
      "outputs": [
        {
          "output_type": "execute_result",
          "data": {
            "text/plain": [
              "array([[False],\n",
              "       [False],\n",
              "       [False],\n",
              "       [False],\n",
              "       [False],\n",
              "       [ True],\n",
              "       [False],\n",
              "       [ True],\n",
              "       [False],\n",
              "       [False],\n",
              "       [ True],\n",
              "       [ True],\n",
              "       [ True]])"
            ]
          },
          "metadata": {},
          "execution_count": 34
        }
      ],
      "source": [
        "sigmoid(fz)>=0.5"
      ]
    },
    {
      "cell_type": "code",
      "source": [
        "lgR.predict(X)"
      ],
      "metadata": {
        "id": "33xWSKlur7Ed",
        "colab": {
          "base_uri": "https://localhost:8080/"
        },
        "outputId": "4ec044d7-1b24-4208-ec4a-3fd50f9a8aac"
      },
      "execution_count": 36,
      "outputs": [
        {
          "output_type": "execute_result",
          "data": {
            "text/plain": [
              "array([0, 0, 0, 0, 0, 1, 0, 1, 0, 0, 1, 1, 1])"
            ]
          },
          "metadata": {},
          "execution_count": 36
        }
      ]
    },
    {
      "cell_type": "markdown",
      "source": [
        "## 2 Breast Cancer Data Set"
      ],
      "metadata": {
        "id": "LEcZZgp8r70Q"
      }
    },
    {
      "cell_type": "code",
      "source": [
        "from sklearn.datasets import load_breast_cancer\n",
        "data = load_breast_cancer()"
      ],
      "metadata": {
        "id": "CxGZWAM-sJCO"
      },
      "execution_count": 37,
      "outputs": []
    },
    {
      "cell_type": "code",
      "source": [
        "data"
      ],
      "metadata": {
        "colab": {
          "base_uri": "https://localhost:8080/"
        },
        "id": "lA-omkOU5mbL",
        "outputId": "3e04dfc0-b34d-4179-8262-c01cbb5739a9"
      },
      "execution_count": 38,
      "outputs": [
        {
          "output_type": "execute_result",
          "data": {
            "text/plain": [
              "{'data': array([[1.799e+01, 1.038e+01, 1.228e+02, ..., 2.654e-01, 4.601e-01,\n",
              "         1.189e-01],\n",
              "        [2.057e+01, 1.777e+01, 1.329e+02, ..., 1.860e-01, 2.750e-01,\n",
              "         8.902e-02],\n",
              "        [1.969e+01, 2.125e+01, 1.300e+02, ..., 2.430e-01, 3.613e-01,\n",
              "         8.758e-02],\n",
              "        ...,\n",
              "        [1.660e+01, 2.808e+01, 1.083e+02, ..., 1.418e-01, 2.218e-01,\n",
              "         7.820e-02],\n",
              "        [2.060e+01, 2.933e+01, 1.401e+02, ..., 2.650e-01, 4.087e-01,\n",
              "         1.240e-01],\n",
              "        [7.760e+00, 2.454e+01, 4.792e+01, ..., 0.000e+00, 2.871e-01,\n",
              "         7.039e-02]]),\n",
              " 'target': array([0, 0, 0, 0, 0, 0, 0, 0, 0, 0, 0, 0, 0, 0, 0, 0, 0, 0, 0, 1, 1, 1,\n",
              "        0, 0, 0, 0, 0, 0, 0, 0, 0, 0, 0, 0, 0, 0, 0, 1, 0, 0, 0, 0, 0, 0,\n",
              "        0, 0, 1, 0, 1, 1, 1, 1, 1, 0, 0, 1, 0, 0, 1, 1, 1, 1, 0, 1, 0, 0,\n",
              "        1, 1, 1, 1, 0, 1, 0, 0, 1, 0, 1, 0, 0, 1, 1, 1, 0, 0, 1, 0, 0, 0,\n",
              "        1, 1, 1, 0, 1, 1, 0, 0, 1, 1, 1, 0, 0, 1, 1, 1, 1, 0, 1, 1, 0, 1,\n",
              "        1, 1, 1, 1, 1, 1, 1, 0, 0, 0, 1, 0, 0, 1, 1, 1, 0, 0, 1, 0, 1, 0,\n",
              "        0, 1, 0, 0, 1, 1, 0, 1, 1, 0, 1, 1, 1, 1, 0, 1, 1, 1, 1, 1, 1, 1,\n",
              "        1, 1, 0, 1, 1, 1, 1, 0, 0, 1, 0, 1, 1, 0, 0, 1, 1, 0, 0, 1, 1, 1,\n",
              "        1, 0, 1, 1, 0, 0, 0, 1, 0, 1, 0, 1, 1, 1, 0, 1, 1, 0, 0, 1, 0, 0,\n",
              "        0, 0, 1, 0, 0, 0, 1, 0, 1, 0, 1, 1, 0, 1, 0, 0, 0, 0, 1, 1, 0, 0,\n",
              "        1, 1, 1, 0, 1, 1, 1, 1, 1, 0, 0, 1, 1, 0, 1, 1, 0, 0, 1, 0, 1, 1,\n",
              "        1, 1, 0, 1, 1, 1, 1, 1, 0, 1, 0, 0, 0, 0, 0, 0, 0, 0, 0, 0, 0, 0,\n",
              "        0, 0, 1, 1, 1, 1, 1, 1, 0, 1, 0, 1, 1, 0, 1, 1, 0, 1, 0, 0, 1, 1,\n",
              "        1, 1, 1, 1, 1, 1, 1, 1, 1, 1, 1, 0, 1, 1, 0, 1, 0, 1, 1, 1, 1, 1,\n",
              "        1, 1, 1, 1, 1, 1, 1, 1, 1, 0, 1, 1, 1, 0, 1, 0, 1, 1, 1, 1, 0, 0,\n",
              "        0, 1, 1, 1, 1, 0, 1, 0, 1, 0, 1, 1, 1, 0, 1, 1, 1, 1, 1, 1, 1, 0,\n",
              "        0, 0, 1, 1, 1, 1, 1, 1, 1, 1, 1, 1, 1, 0, 0, 1, 0, 0, 0, 1, 0, 0,\n",
              "        1, 1, 1, 1, 1, 0, 1, 1, 1, 1, 1, 0, 1, 1, 1, 0, 1, 1, 0, 0, 1, 1,\n",
              "        1, 1, 1, 1, 0, 1, 1, 1, 1, 1, 1, 1, 0, 1, 1, 1, 1, 1, 0, 1, 1, 0,\n",
              "        1, 1, 1, 1, 1, 1, 1, 1, 1, 1, 1, 1, 0, 1, 0, 0, 1, 0, 1, 1, 1, 1,\n",
              "        1, 0, 1, 1, 0, 1, 0, 1, 1, 0, 1, 0, 1, 1, 1, 1, 1, 1, 1, 1, 0, 0,\n",
              "        1, 1, 1, 1, 1, 1, 0, 1, 1, 1, 1, 1, 1, 1, 1, 1, 1, 0, 1, 1, 1, 1,\n",
              "        1, 1, 1, 0, 1, 0, 1, 1, 0, 1, 1, 1, 1, 1, 0, 0, 1, 0, 1, 0, 1, 1,\n",
              "        1, 1, 1, 0, 1, 1, 0, 1, 0, 1, 0, 0, 1, 1, 1, 0, 1, 1, 1, 1, 1, 1,\n",
              "        1, 1, 1, 1, 1, 0, 1, 0, 0, 1, 1, 1, 1, 1, 1, 1, 1, 1, 1, 1, 1, 1,\n",
              "        1, 1, 1, 1, 1, 1, 1, 1, 1, 1, 1, 1, 0, 0, 0, 0, 0, 0, 1]),\n",
              " 'frame': None,\n",
              " 'target_names': array(['malignant', 'benign'], dtype='<U9'),\n",
              " 'DESCR': '.. _breast_cancer_dataset:\\n\\nBreast cancer wisconsin (diagnostic) dataset\\n--------------------------------------------\\n\\n**Data Set Characteristics:**\\n\\n:Number of Instances: 569\\n\\n:Number of Attributes: 30 numeric, predictive attributes and the class\\n\\n:Attribute Information:\\n    - radius (mean of distances from center to points on the perimeter)\\n    - texture (standard deviation of gray-scale values)\\n    - perimeter\\n    - area\\n    - smoothness (local variation in radius lengths)\\n    - compactness (perimeter^2 / area - 1.0)\\n    - concavity (severity of concave portions of the contour)\\n    - concave points (number of concave portions of the contour)\\n    - symmetry\\n    - fractal dimension (\"coastline approximation\" - 1)\\n\\n    The mean, standard error, and \"worst\" or largest (mean of the three\\n    worst/largest values) of these features were computed for each image,\\n    resulting in 30 features.  For instance, field 0 is Mean Radius, field\\n    10 is Radius SE, field 20 is Worst Radius.\\n\\n    - class:\\n            - WDBC-Malignant\\n            - WDBC-Benign\\n\\n:Summary Statistics:\\n\\n===================================== ====== ======\\n                                        Min    Max\\n===================================== ====== ======\\nradius (mean):                        6.981  28.11\\ntexture (mean):                       9.71   39.28\\nperimeter (mean):                     43.79  188.5\\narea (mean):                          143.5  2501.0\\nsmoothness (mean):                    0.053  0.163\\ncompactness (mean):                   0.019  0.345\\nconcavity (mean):                     0.0    0.427\\nconcave points (mean):                0.0    0.201\\nsymmetry (mean):                      0.106  0.304\\nfractal dimension (mean):             0.05   0.097\\nradius (standard error):              0.112  2.873\\ntexture (standard error):             0.36   4.885\\nperimeter (standard error):           0.757  21.98\\narea (standard error):                6.802  542.2\\nsmoothness (standard error):          0.002  0.031\\ncompactness (standard error):         0.002  0.135\\nconcavity (standard error):           0.0    0.396\\nconcave points (standard error):      0.0    0.053\\nsymmetry (standard error):            0.008  0.079\\nfractal dimension (standard error):   0.001  0.03\\nradius (worst):                       7.93   36.04\\ntexture (worst):                      12.02  49.54\\nperimeter (worst):                    50.41  251.2\\narea (worst):                         185.2  4254.0\\nsmoothness (worst):                   0.071  0.223\\ncompactness (worst):                  0.027  1.058\\nconcavity (worst):                    0.0    1.252\\nconcave points (worst):               0.0    0.291\\nsymmetry (worst):                     0.156  0.664\\nfractal dimension (worst):            0.055  0.208\\n===================================== ====== ======\\n\\n:Missing Attribute Values: None\\n\\n:Class Distribution: 212 - Malignant, 357 - Benign\\n\\n:Creator:  Dr. William H. Wolberg, W. Nick Street, Olvi L. Mangasarian\\n\\n:Donor: Nick Street\\n\\n:Date: November, 1995\\n\\nThis is a copy of UCI ML Breast Cancer Wisconsin (Diagnostic) datasets.\\nhttps://goo.gl/U2Uwz2\\n\\nFeatures are computed from a digitized image of a fine needle\\naspirate (FNA) of a breast mass.  They describe\\ncharacteristics of the cell nuclei present in the image.\\n\\nSeparating plane described above was obtained using\\nMultisurface Method-Tree (MSM-T) [K. P. Bennett, \"Decision Tree\\nConstruction Via Linear Programming.\" Proceedings of the 4th\\nMidwest Artificial Intelligence and Cognitive Science Society,\\npp. 97-101, 1992], a classification method which uses linear\\nprogramming to construct a decision tree.  Relevant features\\nwere selected using an exhaustive search in the space of 1-4\\nfeatures and 1-3 separating planes.\\n\\nThe actual linear program used to obtain the separating plane\\nin the 3-dimensional space is that described in:\\n[K. P. Bennett and O. L. Mangasarian: \"Robust Linear\\nProgramming Discrimination of Two Linearly Inseparable Sets\",\\nOptimization Methods and Software 1, 1992, 23-34].\\n\\nThis database is also available through the UW CS ftp server:\\n\\nftp ftp.cs.wisc.edu\\ncd math-prog/cpo-dataset/machine-learn/WDBC/\\n\\n.. dropdown:: References\\n\\n  - W.N. Street, W.H. Wolberg and O.L. Mangasarian. Nuclear feature extraction\\n    for breast tumor diagnosis. IS&T/SPIE 1993 International Symposium on\\n    Electronic Imaging: Science and Technology, volume 1905, pages 861-870,\\n    San Jose, CA, 1993.\\n  - O.L. Mangasarian, W.N. Street and W.H. Wolberg. Breast cancer diagnosis and\\n    prognosis via linear programming. Operations Research, 43(4), pages 570-577,\\n    July-August 1995.\\n  - W.H. Wolberg, W.N. Street, and O.L. Mangasarian. Machine learning techniques\\n    to diagnose breast cancer from fine-needle aspirates. Cancer Letters 77 (1994)\\n    163-171.\\n',\n",
              " 'feature_names': array(['mean radius', 'mean texture', 'mean perimeter', 'mean area',\n",
              "        'mean smoothness', 'mean compactness', 'mean concavity',\n",
              "        'mean concave points', 'mean symmetry', 'mean fractal dimension',\n",
              "        'radius error', 'texture error', 'perimeter error', 'area error',\n",
              "        'smoothness error', 'compactness error', 'concavity error',\n",
              "        'concave points error', 'symmetry error',\n",
              "        'fractal dimension error', 'worst radius', 'worst texture',\n",
              "        'worst perimeter', 'worst area', 'worst smoothness',\n",
              "        'worst compactness', 'worst concavity', 'worst concave points',\n",
              "        'worst symmetry', 'worst fractal dimension'], dtype='<U23'),\n",
              " 'filename': 'breast_cancer.csv',\n",
              " 'data_module': 'sklearn.datasets.data'}"
            ]
          },
          "metadata": {},
          "execution_count": 38
        }
      ]
    },
    {
      "cell_type": "code",
      "source": [
        "X = data.data\n",
        "y = data.target"
      ],
      "metadata": {
        "id": "2CuWTWyrsjy2"
      },
      "execution_count": 40,
      "outputs": []
    },
    {
      "cell_type": "code",
      "source": [
        "data.feature_names"
      ],
      "metadata": {
        "colab": {
          "base_uri": "https://localhost:8080/"
        },
        "id": "QhuS4zod6PtZ",
        "outputId": "16a0c500-8797-49e3-caf6-6527e32a2e09"
      },
      "execution_count": 43,
      "outputs": [
        {
          "output_type": "execute_result",
          "data": {
            "text/plain": [
              "array(['mean radius', 'mean texture', 'mean perimeter', 'mean area',\n",
              "       'mean smoothness', 'mean compactness', 'mean concavity',\n",
              "       'mean concave points', 'mean symmetry', 'mean fractal dimension',\n",
              "       'radius error', 'texture error', 'perimeter error', 'area error',\n",
              "       'smoothness error', 'compactness error', 'concavity error',\n",
              "       'concave points error', 'symmetry error',\n",
              "       'fractal dimension error', 'worst radius', 'worst texture',\n",
              "       'worst perimeter', 'worst area', 'worst smoothness',\n",
              "       'worst compactness', 'worst concavity', 'worst concave points',\n",
              "       'worst symmetry', 'worst fractal dimension'], dtype='<U23')"
            ]
          },
          "metadata": {},
          "execution_count": 43
        }
      ]
    },
    {
      "cell_type": "code",
      "source": [
        "X.shape"
      ],
      "metadata": {
        "colab": {
          "base_uri": "https://localhost:8080/"
        },
        "id": "5F3qhJLR6AXh",
        "outputId": "ae5001a6-3aff-409d-b6f3-cb2546fa22d8"
      },
      "execution_count": 42,
      "outputs": [
        {
          "output_type": "execute_result",
          "data": {
            "text/plain": [
              "(569, 30)"
            ]
          },
          "metadata": {},
          "execution_count": 42
        }
      ]
    },
    {
      "cell_type": "code",
      "source": [
        "y.shape"
      ],
      "metadata": {
        "colab": {
          "base_uri": "https://localhost:8080/"
        },
        "id": "jdPI6jTK6a1j",
        "outputId": "e2c895ff-3822-4c0c-8d21-7651719a50f1"
      },
      "execution_count": 44,
      "outputs": [
        {
          "output_type": "execute_result",
          "data": {
            "text/plain": [
              "(569,)"
            ]
          },
          "metadata": {},
          "execution_count": 44
        }
      ]
    },
    {
      "cell_type": "code",
      "source": [
        "from sklearn.linear_model import LogisticRegression"
      ],
      "metadata": {
        "id": "l4dUrRqMsxdd"
      },
      "execution_count": 45,
      "outputs": []
    },
    {
      "cell_type": "code",
      "source": [
        "lg = LogisticRegression(max_iter= 10000, penalty = None,solver =\"newton-cg\")"
      ],
      "metadata": {
        "id": "P0wZxShytXTT"
      },
      "execution_count": 46,
      "outputs": []
    },
    {
      "cell_type": "code",
      "source": [
        "lg.fit(X,y)"
      ],
      "metadata": {
        "id": "4VUu2UWmt2um",
        "colab": {
          "base_uri": "https://localhost:8080/",
          "height": 99
        },
        "outputId": "20b7d4dd-ff49-4237-b3a2-3484acff60b4"
      },
      "execution_count": 47,
      "outputs": [
        {
          "output_type": "execute_result",
          "data": {
            "text/plain": [
              "LogisticRegression(max_iter=10000, penalty=None, solver='newton-cg')"
            ],
            "text/html": [
              "<style>#sk-container-id-2 {\n",
              "  /* Definition of color scheme common for light and dark mode */\n",
              "  --sklearn-color-text: #000;\n",
              "  --sklearn-color-text-muted: #666;\n",
              "  --sklearn-color-line: gray;\n",
              "  /* Definition of color scheme for unfitted estimators */\n",
              "  --sklearn-color-unfitted-level-0: #fff5e6;\n",
              "  --sklearn-color-unfitted-level-1: #f6e4d2;\n",
              "  --sklearn-color-unfitted-level-2: #ffe0b3;\n",
              "  --sklearn-color-unfitted-level-3: chocolate;\n",
              "  /* Definition of color scheme for fitted estimators */\n",
              "  --sklearn-color-fitted-level-0: #f0f8ff;\n",
              "  --sklearn-color-fitted-level-1: #d4ebff;\n",
              "  --sklearn-color-fitted-level-2: #b3dbfd;\n",
              "  --sklearn-color-fitted-level-3: cornflowerblue;\n",
              "\n",
              "  /* Specific color for light theme */\n",
              "  --sklearn-color-text-on-default-background: var(--sg-text-color, var(--theme-code-foreground, var(--jp-content-font-color1, black)));\n",
              "  --sklearn-color-background: var(--sg-background-color, var(--theme-background, var(--jp-layout-color0, white)));\n",
              "  --sklearn-color-border-box: var(--sg-text-color, var(--theme-code-foreground, var(--jp-content-font-color1, black)));\n",
              "  --sklearn-color-icon: #696969;\n",
              "\n",
              "  @media (prefers-color-scheme: dark) {\n",
              "    /* Redefinition of color scheme for dark theme */\n",
              "    --sklearn-color-text-on-default-background: var(--sg-text-color, var(--theme-code-foreground, var(--jp-content-font-color1, white)));\n",
              "    --sklearn-color-background: var(--sg-background-color, var(--theme-background, var(--jp-layout-color0, #111)));\n",
              "    --sklearn-color-border-box: var(--sg-text-color, var(--theme-code-foreground, var(--jp-content-font-color1, white)));\n",
              "    --sklearn-color-icon: #878787;\n",
              "  }\n",
              "}\n",
              "\n",
              "#sk-container-id-2 {\n",
              "  color: var(--sklearn-color-text);\n",
              "}\n",
              "\n",
              "#sk-container-id-2 pre {\n",
              "  padding: 0;\n",
              "}\n",
              "\n",
              "#sk-container-id-2 input.sk-hidden--visually {\n",
              "  border: 0;\n",
              "  clip: rect(1px 1px 1px 1px);\n",
              "  clip: rect(1px, 1px, 1px, 1px);\n",
              "  height: 1px;\n",
              "  margin: -1px;\n",
              "  overflow: hidden;\n",
              "  padding: 0;\n",
              "  position: absolute;\n",
              "  width: 1px;\n",
              "}\n",
              "\n",
              "#sk-container-id-2 div.sk-dashed-wrapped {\n",
              "  border: 1px dashed var(--sklearn-color-line);\n",
              "  margin: 0 0.4em 0.5em 0.4em;\n",
              "  box-sizing: border-box;\n",
              "  padding-bottom: 0.4em;\n",
              "  background-color: var(--sklearn-color-background);\n",
              "}\n",
              "\n",
              "#sk-container-id-2 div.sk-container {\n",
              "  /* jupyter's `normalize.less` sets `[hidden] { display: none; }`\n",
              "     but bootstrap.min.css set `[hidden] { display: none !important; }`\n",
              "     so we also need the `!important` here to be able to override the\n",
              "     default hidden behavior on the sphinx rendered scikit-learn.org.\n",
              "     See: https://github.com/scikit-learn/scikit-learn/issues/21755 */\n",
              "  display: inline-block !important;\n",
              "  position: relative;\n",
              "}\n",
              "\n",
              "#sk-container-id-2 div.sk-text-repr-fallback {\n",
              "  display: none;\n",
              "}\n",
              "\n",
              "div.sk-parallel-item,\n",
              "div.sk-serial,\n",
              "div.sk-item {\n",
              "  /* draw centered vertical line to link estimators */\n",
              "  background-image: linear-gradient(var(--sklearn-color-text-on-default-background), var(--sklearn-color-text-on-default-background));\n",
              "  background-size: 2px 100%;\n",
              "  background-repeat: no-repeat;\n",
              "  background-position: center center;\n",
              "}\n",
              "\n",
              "/* Parallel-specific style estimator block */\n",
              "\n",
              "#sk-container-id-2 div.sk-parallel-item::after {\n",
              "  content: \"\";\n",
              "  width: 100%;\n",
              "  border-bottom: 2px solid var(--sklearn-color-text-on-default-background);\n",
              "  flex-grow: 1;\n",
              "}\n",
              "\n",
              "#sk-container-id-2 div.sk-parallel {\n",
              "  display: flex;\n",
              "  align-items: stretch;\n",
              "  justify-content: center;\n",
              "  background-color: var(--sklearn-color-background);\n",
              "  position: relative;\n",
              "}\n",
              "\n",
              "#sk-container-id-2 div.sk-parallel-item {\n",
              "  display: flex;\n",
              "  flex-direction: column;\n",
              "}\n",
              "\n",
              "#sk-container-id-2 div.sk-parallel-item:first-child::after {\n",
              "  align-self: flex-end;\n",
              "  width: 50%;\n",
              "}\n",
              "\n",
              "#sk-container-id-2 div.sk-parallel-item:last-child::after {\n",
              "  align-self: flex-start;\n",
              "  width: 50%;\n",
              "}\n",
              "\n",
              "#sk-container-id-2 div.sk-parallel-item:only-child::after {\n",
              "  width: 0;\n",
              "}\n",
              "\n",
              "/* Serial-specific style estimator block */\n",
              "\n",
              "#sk-container-id-2 div.sk-serial {\n",
              "  display: flex;\n",
              "  flex-direction: column;\n",
              "  align-items: center;\n",
              "  background-color: var(--sklearn-color-background);\n",
              "  padding-right: 1em;\n",
              "  padding-left: 1em;\n",
              "}\n",
              "\n",
              "\n",
              "/* Toggleable style: style used for estimator/Pipeline/ColumnTransformer box that is\n",
              "clickable and can be expanded/collapsed.\n",
              "- Pipeline and ColumnTransformer use this feature and define the default style\n",
              "- Estimators will overwrite some part of the style using the `sk-estimator` class\n",
              "*/\n",
              "\n",
              "/* Pipeline and ColumnTransformer style (default) */\n",
              "\n",
              "#sk-container-id-2 div.sk-toggleable {\n",
              "  /* Default theme specific background. It is overwritten whether we have a\n",
              "  specific estimator or a Pipeline/ColumnTransformer */\n",
              "  background-color: var(--sklearn-color-background);\n",
              "}\n",
              "\n",
              "/* Toggleable label */\n",
              "#sk-container-id-2 label.sk-toggleable__label {\n",
              "  cursor: pointer;\n",
              "  display: flex;\n",
              "  width: 100%;\n",
              "  margin-bottom: 0;\n",
              "  padding: 0.5em;\n",
              "  box-sizing: border-box;\n",
              "  text-align: center;\n",
              "  align-items: start;\n",
              "  justify-content: space-between;\n",
              "  gap: 0.5em;\n",
              "}\n",
              "\n",
              "#sk-container-id-2 label.sk-toggleable__label .caption {\n",
              "  font-size: 0.6rem;\n",
              "  font-weight: lighter;\n",
              "  color: var(--sklearn-color-text-muted);\n",
              "}\n",
              "\n",
              "#sk-container-id-2 label.sk-toggleable__label-arrow:before {\n",
              "  /* Arrow on the left of the label */\n",
              "  content: \"▸\";\n",
              "  float: left;\n",
              "  margin-right: 0.25em;\n",
              "  color: var(--sklearn-color-icon);\n",
              "}\n",
              "\n",
              "#sk-container-id-2 label.sk-toggleable__label-arrow:hover:before {\n",
              "  color: var(--sklearn-color-text);\n",
              "}\n",
              "\n",
              "/* Toggleable content - dropdown */\n",
              "\n",
              "#sk-container-id-2 div.sk-toggleable__content {\n",
              "  max-height: 0;\n",
              "  max-width: 0;\n",
              "  overflow: hidden;\n",
              "  text-align: left;\n",
              "  /* unfitted */\n",
              "  background-color: var(--sklearn-color-unfitted-level-0);\n",
              "}\n",
              "\n",
              "#sk-container-id-2 div.sk-toggleable__content.fitted {\n",
              "  /* fitted */\n",
              "  background-color: var(--sklearn-color-fitted-level-0);\n",
              "}\n",
              "\n",
              "#sk-container-id-2 div.sk-toggleable__content pre {\n",
              "  margin: 0.2em;\n",
              "  border-radius: 0.25em;\n",
              "  color: var(--sklearn-color-text);\n",
              "  /* unfitted */\n",
              "  background-color: var(--sklearn-color-unfitted-level-0);\n",
              "}\n",
              "\n",
              "#sk-container-id-2 div.sk-toggleable__content.fitted pre {\n",
              "  /* unfitted */\n",
              "  background-color: var(--sklearn-color-fitted-level-0);\n",
              "}\n",
              "\n",
              "#sk-container-id-2 input.sk-toggleable__control:checked~div.sk-toggleable__content {\n",
              "  /* Expand drop-down */\n",
              "  max-height: 200px;\n",
              "  max-width: 100%;\n",
              "  overflow: auto;\n",
              "}\n",
              "\n",
              "#sk-container-id-2 input.sk-toggleable__control:checked~label.sk-toggleable__label-arrow:before {\n",
              "  content: \"▾\";\n",
              "}\n",
              "\n",
              "/* Pipeline/ColumnTransformer-specific style */\n",
              "\n",
              "#sk-container-id-2 div.sk-label input.sk-toggleable__control:checked~label.sk-toggleable__label {\n",
              "  color: var(--sklearn-color-text);\n",
              "  background-color: var(--sklearn-color-unfitted-level-2);\n",
              "}\n",
              "\n",
              "#sk-container-id-2 div.sk-label.fitted input.sk-toggleable__control:checked~label.sk-toggleable__label {\n",
              "  background-color: var(--sklearn-color-fitted-level-2);\n",
              "}\n",
              "\n",
              "/* Estimator-specific style */\n",
              "\n",
              "/* Colorize estimator box */\n",
              "#sk-container-id-2 div.sk-estimator input.sk-toggleable__control:checked~label.sk-toggleable__label {\n",
              "  /* unfitted */\n",
              "  background-color: var(--sklearn-color-unfitted-level-2);\n",
              "}\n",
              "\n",
              "#sk-container-id-2 div.sk-estimator.fitted input.sk-toggleable__control:checked~label.sk-toggleable__label {\n",
              "  /* fitted */\n",
              "  background-color: var(--sklearn-color-fitted-level-2);\n",
              "}\n",
              "\n",
              "#sk-container-id-2 div.sk-label label.sk-toggleable__label,\n",
              "#sk-container-id-2 div.sk-label label {\n",
              "  /* The background is the default theme color */\n",
              "  color: var(--sklearn-color-text-on-default-background);\n",
              "}\n",
              "\n",
              "/* On hover, darken the color of the background */\n",
              "#sk-container-id-2 div.sk-label:hover label.sk-toggleable__label {\n",
              "  color: var(--sklearn-color-text);\n",
              "  background-color: var(--sklearn-color-unfitted-level-2);\n",
              "}\n",
              "\n",
              "/* Label box, darken color on hover, fitted */\n",
              "#sk-container-id-2 div.sk-label.fitted:hover label.sk-toggleable__label.fitted {\n",
              "  color: var(--sklearn-color-text);\n",
              "  background-color: var(--sklearn-color-fitted-level-2);\n",
              "}\n",
              "\n",
              "/* Estimator label */\n",
              "\n",
              "#sk-container-id-2 div.sk-label label {\n",
              "  font-family: monospace;\n",
              "  font-weight: bold;\n",
              "  display: inline-block;\n",
              "  line-height: 1.2em;\n",
              "}\n",
              "\n",
              "#sk-container-id-2 div.sk-label-container {\n",
              "  text-align: center;\n",
              "}\n",
              "\n",
              "/* Estimator-specific */\n",
              "#sk-container-id-2 div.sk-estimator {\n",
              "  font-family: monospace;\n",
              "  border: 1px dotted var(--sklearn-color-border-box);\n",
              "  border-radius: 0.25em;\n",
              "  box-sizing: border-box;\n",
              "  margin-bottom: 0.5em;\n",
              "  /* unfitted */\n",
              "  background-color: var(--sklearn-color-unfitted-level-0);\n",
              "}\n",
              "\n",
              "#sk-container-id-2 div.sk-estimator.fitted {\n",
              "  /* fitted */\n",
              "  background-color: var(--sklearn-color-fitted-level-0);\n",
              "}\n",
              "\n",
              "/* on hover */\n",
              "#sk-container-id-2 div.sk-estimator:hover {\n",
              "  /* unfitted */\n",
              "  background-color: var(--sklearn-color-unfitted-level-2);\n",
              "}\n",
              "\n",
              "#sk-container-id-2 div.sk-estimator.fitted:hover {\n",
              "  /* fitted */\n",
              "  background-color: var(--sklearn-color-fitted-level-2);\n",
              "}\n",
              "\n",
              "/* Specification for estimator info (e.g. \"i\" and \"?\") */\n",
              "\n",
              "/* Common style for \"i\" and \"?\" */\n",
              "\n",
              ".sk-estimator-doc-link,\n",
              "a:link.sk-estimator-doc-link,\n",
              "a:visited.sk-estimator-doc-link {\n",
              "  float: right;\n",
              "  font-size: smaller;\n",
              "  line-height: 1em;\n",
              "  font-family: monospace;\n",
              "  background-color: var(--sklearn-color-background);\n",
              "  border-radius: 1em;\n",
              "  height: 1em;\n",
              "  width: 1em;\n",
              "  text-decoration: none !important;\n",
              "  margin-left: 0.5em;\n",
              "  text-align: center;\n",
              "  /* unfitted */\n",
              "  border: var(--sklearn-color-unfitted-level-1) 1pt solid;\n",
              "  color: var(--sklearn-color-unfitted-level-1);\n",
              "}\n",
              "\n",
              ".sk-estimator-doc-link.fitted,\n",
              "a:link.sk-estimator-doc-link.fitted,\n",
              "a:visited.sk-estimator-doc-link.fitted {\n",
              "  /* fitted */\n",
              "  border: var(--sklearn-color-fitted-level-1) 1pt solid;\n",
              "  color: var(--sklearn-color-fitted-level-1);\n",
              "}\n",
              "\n",
              "/* On hover */\n",
              "div.sk-estimator:hover .sk-estimator-doc-link:hover,\n",
              ".sk-estimator-doc-link:hover,\n",
              "div.sk-label-container:hover .sk-estimator-doc-link:hover,\n",
              ".sk-estimator-doc-link:hover {\n",
              "  /* unfitted */\n",
              "  background-color: var(--sklearn-color-unfitted-level-3);\n",
              "  color: var(--sklearn-color-background);\n",
              "  text-decoration: none;\n",
              "}\n",
              "\n",
              "div.sk-estimator.fitted:hover .sk-estimator-doc-link.fitted:hover,\n",
              ".sk-estimator-doc-link.fitted:hover,\n",
              "div.sk-label-container:hover .sk-estimator-doc-link.fitted:hover,\n",
              ".sk-estimator-doc-link.fitted:hover {\n",
              "  /* fitted */\n",
              "  background-color: var(--sklearn-color-fitted-level-3);\n",
              "  color: var(--sklearn-color-background);\n",
              "  text-decoration: none;\n",
              "}\n",
              "\n",
              "/* Span, style for the box shown on hovering the info icon */\n",
              ".sk-estimator-doc-link span {\n",
              "  display: none;\n",
              "  z-index: 9999;\n",
              "  position: relative;\n",
              "  font-weight: normal;\n",
              "  right: .2ex;\n",
              "  padding: .5ex;\n",
              "  margin: .5ex;\n",
              "  width: min-content;\n",
              "  min-width: 20ex;\n",
              "  max-width: 50ex;\n",
              "  color: var(--sklearn-color-text);\n",
              "  box-shadow: 2pt 2pt 4pt #999;\n",
              "  /* unfitted */\n",
              "  background: var(--sklearn-color-unfitted-level-0);\n",
              "  border: .5pt solid var(--sklearn-color-unfitted-level-3);\n",
              "}\n",
              "\n",
              ".sk-estimator-doc-link.fitted span {\n",
              "  /* fitted */\n",
              "  background: var(--sklearn-color-fitted-level-0);\n",
              "  border: var(--sklearn-color-fitted-level-3);\n",
              "}\n",
              "\n",
              ".sk-estimator-doc-link:hover span {\n",
              "  display: block;\n",
              "}\n",
              "\n",
              "/* \"?\"-specific style due to the `<a>` HTML tag */\n",
              "\n",
              "#sk-container-id-2 a.estimator_doc_link {\n",
              "  float: right;\n",
              "  font-size: 1rem;\n",
              "  line-height: 1em;\n",
              "  font-family: monospace;\n",
              "  background-color: var(--sklearn-color-background);\n",
              "  border-radius: 1rem;\n",
              "  height: 1rem;\n",
              "  width: 1rem;\n",
              "  text-decoration: none;\n",
              "  /* unfitted */\n",
              "  color: var(--sklearn-color-unfitted-level-1);\n",
              "  border: var(--sklearn-color-unfitted-level-1) 1pt solid;\n",
              "}\n",
              "\n",
              "#sk-container-id-2 a.estimator_doc_link.fitted {\n",
              "  /* fitted */\n",
              "  border: var(--sklearn-color-fitted-level-1) 1pt solid;\n",
              "  color: var(--sklearn-color-fitted-level-1);\n",
              "}\n",
              "\n",
              "/* On hover */\n",
              "#sk-container-id-2 a.estimator_doc_link:hover {\n",
              "  /* unfitted */\n",
              "  background-color: var(--sklearn-color-unfitted-level-3);\n",
              "  color: var(--sklearn-color-background);\n",
              "  text-decoration: none;\n",
              "}\n",
              "\n",
              "#sk-container-id-2 a.estimator_doc_link.fitted:hover {\n",
              "  /* fitted */\n",
              "  background-color: var(--sklearn-color-fitted-level-3);\n",
              "}\n",
              "</style><div id=\"sk-container-id-2\" class=\"sk-top-container\"><div class=\"sk-text-repr-fallback\"><pre>LogisticRegression(max_iter=10000, penalty=None, solver=&#x27;newton-cg&#x27;)</pre><b>In a Jupyter environment, please rerun this cell to show the HTML representation or trust the notebook. <br />On GitHub, the HTML representation is unable to render, please try loading this page with nbviewer.org.</b></div><div class=\"sk-container\" hidden><div class=\"sk-item\"><div class=\"sk-estimator fitted sk-toggleable\"><input class=\"sk-toggleable__control sk-hidden--visually\" id=\"sk-estimator-id-2\" type=\"checkbox\" checked><label for=\"sk-estimator-id-2\" class=\"sk-toggleable__label fitted sk-toggleable__label-arrow\"><div><div>LogisticRegression</div></div><div><a class=\"sk-estimator-doc-link fitted\" rel=\"noreferrer\" target=\"_blank\" href=\"https://scikit-learn.org/1.6/modules/generated/sklearn.linear_model.LogisticRegression.html\">?<span>Documentation for LogisticRegression</span></a><span class=\"sk-estimator-doc-link fitted\">i<span>Fitted</span></span></div></label><div class=\"sk-toggleable__content fitted\"><pre>LogisticRegression(max_iter=10000, penalty=None, solver=&#x27;newton-cg&#x27;)</pre></div> </div></div></div></div>"
            ]
          },
          "metadata": {},
          "execution_count": 47
        }
      ]
    },
    {
      "cell_type": "code",
      "source": [
        "lg.score(X,y)"
      ],
      "metadata": {
        "id": "cLJaBurJtj6A",
        "colab": {
          "base_uri": "https://localhost:8080/"
        },
        "outputId": "56d310fa-f98b-4029-b879-c6f8385aab5d"
      },
      "execution_count": 48,
      "outputs": [
        {
          "output_type": "execute_result",
          "data": {
            "text/plain": [
              "0.984182776801406"
            ]
          },
          "metadata": {},
          "execution_count": 48
        }
      ]
    },
    {
      "cell_type": "code",
      "source": [
        "lg.intercept_"
      ],
      "metadata": {
        "id": "09bKQFk-AMlJ",
        "colab": {
          "base_uri": "https://localhost:8080/"
        },
        "outputId": "c5187722-3283-4969-eee0-3540161dc9e0"
      },
      "execution_count": 49,
      "outputs": [
        {
          "output_type": "execute_result",
          "data": {
            "text/plain": [
              "array([21.27552289])"
            ]
          },
          "metadata": {},
          "execution_count": 49
        }
      ]
    },
    {
      "cell_type": "code",
      "source": [
        "lg.coef_"
      ],
      "metadata": {
        "colab": {
          "base_uri": "https://localhost:8080/"
        },
        "id": "Kb5fCrac8fVg",
        "outputId": "1ef6dd1b-fd81-499f-cbd5-79a127b67bcf"
      },
      "execution_count": 50,
      "outputs": [
        {
          "output_type": "execute_result",
          "data": {
            "text/plain": [
              "array([[ 2.35143817e+00, -6.57970544e-02,  3.62537959e-01,\n",
              "        -2.55964632e-02, -5.73419019e+01,  5.75678737e+01,\n",
              "        -3.63087825e+01, -9.55118705e+01,  2.51053648e+01,\n",
              "        -5.85035045e+01, -2.28431594e+01,  2.09907668e+00,\n",
              "         2.34283540e+00, -1.28317538e-01, -8.51950026e+01,\n",
              "         4.52583528e+00,  1.17994283e+02, -3.20014609e+02,\n",
              "         4.12259492e+01,  1.57740071e+02,  1.20981047e+00,\n",
              "        -5.13445466e-01, -2.78242938e-01, -2.49271938e-02,\n",
              "        -2.08893159e-01,  1.17288522e+01, -1.79013519e+01,\n",
              "        -3.49950363e+01, -2.99420280e+01, -3.89349087e+01]])"
            ]
          },
          "metadata": {},
          "execution_count": 50
        }
      ]
    },
    {
      "cell_type": "code",
      "source": [
        "X.shape"
      ],
      "metadata": {
        "colab": {
          "base_uri": "https://localhost:8080/"
        },
        "id": "khumVTzn8sYV",
        "outputId": "eaaa517d-ff91-46e2-9dac-d7732df2d605"
      },
      "execution_count": 56,
      "outputs": [
        {
          "output_type": "execute_result",
          "data": {
            "text/plain": [
              "(569, 30)"
            ]
          },
          "metadata": {},
          "execution_count": 56
        }
      ]
    },
    {
      "cell_type": "code",
      "source": [
        "X[0:1,:]"
      ],
      "metadata": {
        "colab": {
          "base_uri": "https://localhost:8080/"
        },
        "id": "jcfrWG_V8_mU",
        "outputId": "260b284f-2463-4cf8-e64c-67609d4b6876"
      },
      "execution_count": 59,
      "outputs": [
        {
          "output_type": "execute_result",
          "data": {
            "text/plain": [
              "array([[1.799e+01, 1.038e+01, 1.228e+02, 1.001e+03, 1.184e-01, 2.776e-01,\n",
              "        3.001e-01, 1.471e-01, 2.419e-01, 7.871e-02, 1.095e+00, 9.053e-01,\n",
              "        8.589e+00, 1.534e+02, 6.399e-03, 4.904e-02, 5.373e-02, 1.587e-02,\n",
              "        3.003e-02, 6.193e-03, 2.538e+01, 1.733e+01, 1.846e+02, 2.019e+03,\n",
              "        1.622e-01, 6.656e-01, 7.119e-01, 2.654e-01, 4.601e-01, 1.189e-01]])"
            ]
          },
          "metadata": {},
          "execution_count": 59
        }
      ]
    },
    {
      "cell_type": "code",
      "source": [
        "lg.predict([[1.799e+01, 1.038e+01, 1.228e+02, 1.001e+03, 1.184e-01, 2.776e-01,\n",
        "        3.001e-01, 1.471e-01, 2.419e-01, 7.871e-02, 1.095e+00, 9.053e-01,\n",
        "        8.589e+00, 1.534e+02, 6.399e-03, 4.904e-02, 5.373e-02, 1.587e-02,\n",
        "        3.003e-02, 6.193e-03, 2.538e+01, 1.733e+01, 1.846e+02, 2.019e+03,\n",
        "        1.622e-01, 6.656e-01, 7.119e-01, 2.654e-01, 4.601e-01, 1.189e-01]])"
      ],
      "metadata": {
        "colab": {
          "base_uri": "https://localhost:8080/"
        },
        "id": "k1obOkIA8k_K",
        "outputId": "8872da32-43ab-4f4b-ef1f-2c20be534396"
      },
      "execution_count": 62,
      "outputs": [
        {
          "output_type": "execute_result",
          "data": {
            "text/plain": [
              "array([0])"
            ]
          },
          "metadata": {},
          "execution_count": 62
        }
      ]
    }
  ],
  "metadata": {
    "colab": {
      "provenance": [],
      "include_colab_link": true
    },
    "kernelspec": {
      "argv": [
        "/usr/bin/python3",
        "-m",
        "ipykernel",
        "--HistoryManager.enabled=False",
        "--matplotlib=inline",
        "-c",
        "%config InlineBackend.figure_formats = set(['retina'])\nimport matplotlib; matplotlib.rcParams['figure.figsize'] = (12, 7)",
        "-f",
        "{connection_file}"
      ],
      "display_name": "Python 3 (system-wide)",
      "env": {},
      "language": "python",
      "metadata": {
        "cocalc": {
          "description": "Python 3 programming language",
          "priority": 100,
          "url": "https://www.python.org/"
        }
      },
      "name": "python3",
      "resource_dir": "/ext/jupyter/kernels/python3"
    },
    "language_info": {
      "codemirror_mode": {
        "name": "ipython",
        "version": 3
      },
      "file_extension": ".py",
      "mimetype": "text/x-python",
      "name": "python",
      "nbconvert_exporter": "python",
      "pygments_lexer": "ipython3",
      "version": "3.10.12"
    },
    "nbgrader": {
      "cocalc_minimal_stubs": false
    }
  },
  "nbformat": 4,
  "nbformat_minor": 0
}