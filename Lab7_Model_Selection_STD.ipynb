{
  "cells": [
    {
      "cell_type": "markdown",
      "metadata": {
        "id": "view-in-github",
        "colab_type": "text"
      },
      "source": [
        "<a href=\"https://colab.research.google.com/github/toche7/DSEssentials/blob/main/Lab7_Model_Selection_STD.ipynb\" target=\"_parent\"><img src=\"https://colab.research.google.com/assets/colab-badge.svg\" alt=\"Open In Colab\"/></a>"
      ]
    },
    {
      "cell_type": "markdown",
      "metadata": {
        "collapsed": false,
        "id": "_DEiGTgMzPHU"
      },
      "source": [
        "# Lab. 7 Model Development"
      ]
    },
    {
      "cell_type": "markdown",
      "metadata": {
        "collapsed": false,
        "id": "7pav90xkzPHY"
      },
      "source": [
        "ขั้นตอนในการทำพัฒนาแบบจำลองสามารถแบ่งได้ 2 ขั้นตอนดังนี้\n",
        "\n",
        "1. ขั้นตอนการประเมินแบบจำลอง \\(Model Validation\\)\n",
        "2. ขั้นตอนการคัดเลือกแบบจำลอง \\(Model Selection\\)\n",
        "\n"
      ]
    },
    {
      "cell_type": "markdown",
      "metadata": {
        "collapsed": false,
        "id": "2TsQhyMEzPHY"
      },
      "source": [
        "## 7.1 Model Validation"
      ]
    },
    {
      "cell_type": "markdown",
      "metadata": {
        "collapsed": false,
        "id": "P9XxNzyczPHY"
      },
      "source": [
        "ในการประเมินแบบจำลอง หมายถึงกระบวนการในการวัดประสิทธิภาพของแบบจำลอง เพื่อที่จะใช้ในกระบวนการคัดเลือกหรือเปรียบเทียบประสิทธิภาพระหว่างแบบจำลองซึ่งสามารถทำได้สองวิธีดังนี้\n",
        "\n",
        "1. Hold\\-Out Method\n",
        "2. Cross\\-Validation Method\n",
        "\n",
        "https://scikit-learn.org/stable/modules/cross_validation.html\n"
      ]
    },
    {
      "cell_type": "markdown",
      "metadata": {
        "collapsed": false,
        "id": "u5LBdO6LzPHZ"
      },
      "source": [
        "### 7.1.1 Hold\\-Out Method\n",
        "\n"
      ]
    },
    {
      "cell_type": "markdown",
      "metadata": {
        "collapsed": false,
        "id": "tL1R2vBVzPHZ"
      },
      "source": [
        "![](https://miro.medium.com/v2/resize:fit:720/format:webp/1*iZpmWiVeFn0bcuMZ_yiEdw.jpeg)\n"
      ]
    },
    {
      "cell_type": "markdown",
      "source": [],
      "metadata": {
        "id": "b9X2k4Kw9BVE"
      }
    },
    {
      "cell_type": "markdown",
      "source": [
        "Theory\n",
        "\n",
        "https://scikit-learn.org/stable/modules/cross_validation.html#cross-validation\n",
        "\n",
        "Library\n",
        "\n",
        "https://scikit-learn.org/stable/modules/generated/sklearn.model_selection.train_test_split.html#\n"
      ],
      "metadata": {
        "id": "Y-lYBynpCI9-"
      }
    },
    {
      "cell_type": "markdown",
      "source": [
        "\n",
        "\n",
        "```python\n",
        "from sklearn.model_selection import train_test_split\n",
        "\n",
        "X_train, X_test, y_train, y_test = train_test_split(X, y, test_size=0.4, random_state=0)\n",
        "\n",
        "```\n",
        "\n",
        "\n"
      ],
      "metadata": {
        "id": "-hOxUU2691gx"
      }
    },
    {
      "cell_type": "markdown",
      "source": [
        "ตัวแปรสำคัญในการใช้คำสั่ง\n",
        "* *arrarys: ข้อมูลที่ใช้ในการแบ่งสามารถใส่เข้ามาหลายๆ ชุดพร้อมกัน ได้\n",
        "* test_size: float หรือ int, default = None, ถ้าเป็น 0.0-1 ก็จะทำการแบ่งข้อมูลไปตามขนาดสัดส่วนของ test_size และส่วนที่เหลือจะไปเป็น train set ถ้าเป็นจำนวนเต็มก็จะหมายถึงค่าจำนวนข้อมูลที่จะแบ่งไป   แต่ถ้าเป็น None ก็จะกำหนดให้กำหนดเป็น 0.25\n",
        "* train_size: float หรือ int, default = None, จะเป็นข้อมูลส่วนจะนำไปฝึกแบบจำลอง โดยจะเป็นแบ่งตามค่า float ที่กำหนด ถ้าเป็นเลขจำนวนเต็มก็จะกำหนดค่าตามนั้น ถ้าเป็น none ก็จะใช้ส่วนที่เหลือจาก test set มาใช้\n",
        "* random_state: int, default = None, กำหนดค่า seed ให้กับตัวกำสร้าง random โดยค่านี้จะถูกใช้ในการทำ  shuffle ข้อมูลที่จะทำก่อนการแบ่ง\n",
        "\n",
        "\n",
        "โดยจะส่งค่ากลับมา list ที่แบ่งออกเป็นสองส่วนแล้ว"
      ],
      "metadata": {
        "id": "XVBljVy8-22y"
      }
    },
    {
      "cell_type": "markdown",
      "source": [
        "### Example 1"
      ],
      "metadata": {
        "id": "4HWKxYItEa1U"
      }
    },
    {
      "cell_type": "code",
      "source": [
        "import numpy as np\n",
        "from sklearn.model_selection import train_test_split\n"
      ],
      "metadata": {
        "id": "Cq8TB11UDJbV"
      },
      "execution_count": null,
      "outputs": []
    },
    {
      "cell_type": "code",
      "source": [
        "X = np.arange(20).reshape((10, 2))\n",
        "y = range(10)\n",
        "X"
      ],
      "metadata": {
        "id": "3a0YDeJwEige"
      },
      "execution_count": null,
      "outputs": []
    },
    {
      "cell_type": "code",
      "source": [],
      "metadata": {
        "id": "eFXnFQo0BnLI"
      },
      "execution_count": null,
      "outputs": []
    },
    {
      "cell_type": "code",
      "source": [],
      "metadata": {
        "id": "kiCaeTHQBnIA"
      },
      "execution_count": null,
      "outputs": []
    },
    {
      "cell_type": "code",
      "source": [
        "X_train, X_test, y_train, y_test = train_test_split(X,  y, test_size=0.5, random_state= None)"
      ],
      "metadata": {
        "id": "xGt3xVVWDgxM"
      },
      "execution_count": null,
      "outputs": []
    },
    {
      "cell_type": "code",
      "source": [],
      "metadata": {
        "id": "jvfoRK7XBl5R"
      },
      "execution_count": null,
      "outputs": []
    },
    {
      "cell_type": "code",
      "source": [],
      "metadata": {
        "id": "XBF_1GG_Bl1B"
      },
      "execution_count": null,
      "outputs": []
    },
    {
      "cell_type": "code",
      "source": [],
      "metadata": {
        "id": "aJ5bsSxhBlw9"
      },
      "execution_count": null,
      "outputs": []
    },
    {
      "cell_type": "markdown",
      "source": [
        "### Example 2"
      ],
      "metadata": {
        "id": "yDKLuQkCENn2"
      }
    },
    {
      "cell_type": "markdown",
      "source": [
        "* \"from\" จะให้กำหนดเป้าหมายในการดึง module ออกมา\n",
        "* \"import\" เป็นนำเข้า module เข้ามา จะดึงมาได้เฉพาะที่เป็น module (file) เท่านั้น\n",
        "* \"as\" เป็นการตั้งชื่อเล่น เพื่อจะเรียกให้ง่ายขึ้น\n",
        "* \"import module_y \"from\" func_x \"import\"  จะดึงมาได้บางส่วนของ module\n",
        "\n",
        "\n",
        "``` python\n",
        "import sklearn as sk\n",
        "from sklearn.model_selection import train_test_split as tt\n",
        "```\n",
        "\n"
      ],
      "metadata": {
        "id": "xFLN_5RHIqnf"
      }
    },
    {
      "cell_type": "code",
      "source": [
        "import numpy as np\n",
        "from sklearn.model_selection import train_test_split\n",
        "from sklearn import datasets"
      ],
      "metadata": {
        "id": "QPBSB90jCjzv"
      },
      "execution_count": null,
      "outputs": []
    },
    {
      "cell_type": "code",
      "source": [
        "from sklearn.svm import SVC"
      ],
      "metadata": {
        "id": "eQBN8eUECnIn"
      },
      "execution_count": null,
      "outputs": []
    },
    {
      "cell_type": "code",
      "execution_count": null,
      "metadata": {
        "id": "BXYTBqa2zPHZ"
      },
      "outputs": [],
      "source": [
        "X, y = datasets.load_iris(return_X_y=True)\n",
        "X.shape, y.shape"
      ]
    },
    {
      "cell_type": "code",
      "execution_count": null,
      "metadata": {
        "id": "rQUMh_blzPHb"
      },
      "outputs": [],
      "source": [
        "X_train, X_test, y_train, y_test = train_test_split(X, y, test_size=0.3, random_state=None)\n"
      ]
    },
    {
      "cell_type": "code",
      "source": [
        "# X_train.shape, y_train.shape, X_test.shape, y_test.shape"
      ],
      "metadata": {
        "id": "MXA2OdkRLMDy"
      },
      "execution_count": null,
      "outputs": []
    },
    {
      "cell_type": "code",
      "source": [],
      "metadata": {
        "id": "FSLiss8kCVZb"
      },
      "execution_count": null,
      "outputs": []
    },
    {
      "cell_type": "code",
      "source": [
        "clf = SVC(kernel='linear', C=1)\n",
        "clf.fit(X_train, y_train)\n",
        "Acc = clf.score(X_test, y_test)\n",
        "\n",
        "print('size X_train: ', X_train.shape)\n",
        "print('size X_test: ', X_test.shape)\n",
        "print('Acc: %.4f' % Acc )"
      ],
      "metadata": {
        "id": "xRFlVqt6LOsu"
      },
      "execution_count": null,
      "outputs": []
    },
    {
      "cell_type": "code",
      "source": [],
      "metadata": {
        "id": "KUOz0Lz4NG2V"
      },
      "execution_count": null,
      "outputs": []
    },
    {
      "cell_type": "code",
      "source": [],
      "metadata": {
        "id": "KJO7U7CRNGzd"
      },
      "execution_count": null,
      "outputs": []
    },
    {
      "cell_type": "code",
      "source": [],
      "metadata": {
        "id": "EWirRVYjNGwF"
      },
      "execution_count": null,
      "outputs": []
    },
    {
      "cell_type": "code",
      "source": [],
      "metadata": {
        "id": "2_zOFb3pNGsg"
      },
      "execution_count": null,
      "outputs": []
    },
    {
      "cell_type": "markdown",
      "source": [
        "#### ผลกระทบของการ random state และขนาดของการแบ่งข้อมูล"
      ],
      "metadata": {
        "id": "BJxtRn5dNHcj"
      }
    },
    {
      "cell_type": "code",
      "source": [
        "n = 10\n",
        "size = 0.3\n",
        "X_train, X_test, y_train, y_test = train_test_split(X, y, test_size = size, random_state=0)\n",
        "print('size X_train: ', X_train.shape)\n",
        "print('size X_test: ', X_test.shape)\n",
        "for i in range(1,n):\n",
        "  X_train, X_test, y_train, y_test = train_test_split(X, y, test_size = size, random_state=0)\n",
        "  clf = SVC(kernel='linear', C=1).fit(X_train, y_train)\n",
        "  Acc = clf.score(X_test, y_test)\n",
        "  print('Acc: %.4f' % Acc )\n"
      ],
      "metadata": {
        "id": "WeMxKmlFL0Gl"
      },
      "execution_count": null,
      "outputs": []
    },
    {
      "cell_type": "markdown",
      "metadata": {
        "collapsed": false,
        "id": "KRdK6EfJzPHc"
      },
      "source": [
        "#### ทดลอง\n",
        "ทดลองปรับค่า random_state = None"
      ]
    },
    {
      "cell_type": "code",
      "source": [
        "n = 10\n",
        "size = 0.3\n",
        "for i in range(1,n):\n",
        "  X_train, X_test, y_train, y_test = train_test_split(X, y, test_size = size, random_state=None)\n",
        "  clf = SVC(kernel='linear', C=1).fit(X_train, y_train)\n",
        "  Acc = clf.score(X_test, y_test)\n",
        "  print('Acc: %.4f' % Acc )"
      ],
      "metadata": {
        "id": "gtUE85LUN-h5"
      },
      "execution_count": null,
      "outputs": []
    },
    {
      "cell_type": "code",
      "source": [],
      "metadata": {
        "id": "7-lynB6FN-eT"
      },
      "execution_count": null,
      "outputs": []
    },
    {
      "cell_type": "code",
      "source": [],
      "metadata": {
        "id": "127c5jRVN-aq"
      },
      "execution_count": null,
      "outputs": []
    },
    {
      "cell_type": "markdown",
      "source": [
        "#### ทดลอง\n",
        "ทดลองปรับค่า  test_size ไปเป็น ค่าอื่น เช่น 0.3, 0.2, 0.1"
      ],
      "metadata": {
        "id": "czfmKPOPDXHt"
      }
    },
    {
      "cell_type": "code",
      "source": [
        "n = 10\n",
        "size = 0.4\n",
        "for i in range(1,n):\n",
        "  X_train, X_test, y_train, y_test = train_test_split(X, y, test_size = size, random_state=0)\n",
        "  clf = SVC(kernel='linear', C=1).fit(X_train, y_train)\n",
        "  Acc = clf.score(X_test, y_test)\n",
        "  print('Acc: %.4f' % Acc )"
      ],
      "metadata": {
        "id": "JLvHbHVnDgEE"
      },
      "execution_count": null,
      "outputs": []
    },
    {
      "cell_type": "code",
      "source": [],
      "metadata": {
        "id": "P7y6-6QADf8n"
      },
      "execution_count": null,
      "outputs": []
    },
    {
      "cell_type": "code",
      "source": [],
      "metadata": {
        "id": "7A0psKv0DfeV"
      },
      "execution_count": null,
      "outputs": []
    },
    {
      "cell_type": "markdown",
      "metadata": {
        "collapsed": false,
        "id": "43Su1-aYzPHd"
      },
      "source": [
        "### 7.1.2 Cross\\-Validation Method\n",
        "\n"
      ]
    },
    {
      "cell_type": "markdown",
      "metadata": {
        "collapsed": false,
        "id": "Fd4WuCEwzPHd"
      },
      "source": [
        "![](https://www.section.io/engineering-education/how-to-implement-k-fold-cross-validation/5-fold-cv.jpeg)\n"
      ]
    },
    {
      "cell_type": "markdown",
      "source": [
        "Theory\n",
        "\n",
        "https://scikit-learn.org/stable/modules/cross_validation.html#cross-validation\n",
        "\n",
        "Library\n",
        "\n",
        "https://scikit-learn.org/stable/modules/generated/sklearn.model_selection.cross_val_score.html\n"
      ],
      "metadata": {
        "id": "7z9t_RW6P4IG"
      }
    },
    {
      "cell_type": "markdown",
      "source": [
        "\n",
        "\n",
        "``` python\n",
        "from sklearn.model_selection import cross_val_score\n",
        "scores = cross_val_score(modelObject, X, y, cv= 5, scoring = 'f1_macro')\n",
        "```\n",
        "\n"
      ],
      "metadata": {
        "id": "2y2eH4y8PhBM"
      }
    },
    {
      "cell_type": "markdown",
      "source": [
        "ตัวแปรแบบที่สำคัญ\n",
        "* modelObject คือตัว object ของ model ที่จะใช้ในการประเมิน\n",
        "* X,y คือชุดข้อมูลที่จะทำการประเมิน\n",
        "* cv คือจำนวนการแบ่งข้อมูลที่จะทำการ cross validation\n",
        "* scoring คือค่าการวัดที่จะทำการตรวจสอบด้วย cross validatoin โดยสามารถดูได้จาก  https://scikit-learn.org/stable/modules/model_evaluation.html#scoring-parameter"
      ],
      "metadata": {
        "id": "uQ33q8ByR_cV"
      }
    },
    {
      "cell_type": "markdown",
      "source": [
        "### Example 3"
      ],
      "metadata": {
        "id": "NNVBUs-7TNbr"
      }
    },
    {
      "cell_type": "code",
      "execution_count": null,
      "metadata": {
        "id": "YDXNoX8gzPHd"
      },
      "outputs": [],
      "source": [
        "from sklearn.model_selection import cross_val_score\n",
        "clf = SVC(kernel='linear', C=1, random_state=42)\n"
      ]
    },
    {
      "cell_type": "code",
      "source": [
        "scores = cross_val_score(clf, X, y, cv=10)\n",
        "scores"
      ],
      "metadata": {
        "id": "MHoA3eNvTZ2N"
      },
      "execution_count": null,
      "outputs": []
    },
    {
      "cell_type": "code",
      "execution_count": null,
      "metadata": {
        "id": "A81SZmBGzPHe"
      },
      "outputs": [],
      "source": [
        "print(\"%0.2f accuracy with a standard deviation of %0.2f\" % (scores.mean(), scores.std()))"
      ]
    },
    {
      "cell_type": "code",
      "source": [],
      "metadata": {
        "id": "QVEKfI3cUKWW"
      },
      "execution_count": null,
      "outputs": []
    },
    {
      "cell_type": "code",
      "source": [],
      "metadata": {
        "id": "GISU4cYjUKSy"
      },
      "execution_count": null,
      "outputs": []
    },
    {
      "cell_type": "code",
      "source": [],
      "metadata": {
        "id": "kHQOeM6VUKPY"
      },
      "execution_count": null,
      "outputs": []
    },
    {
      "cell_type": "markdown",
      "source": [
        "ทดลองเปลี่ยนค่า scoring"
      ],
      "metadata": {
        "id": "Q71kPwUSUMn9"
      }
    },
    {
      "cell_type": "code",
      "execution_count": null,
      "metadata": {
        "id": "1cW-pATFzPHe"
      },
      "outputs": [],
      "source": [
        "scores = cross_val_score(clf, X, y, cv=10, scoring='f1_macro')  # defined the score types\n",
        "scores.mean()"
      ]
    },
    {
      "cell_type": "markdown",
      "metadata": {
        "collapsed": false,
        "id": "sjlnMdDJzPHe"
      },
      "source": [
        "#### ทดลอง\n",
        "ทดลองปรับค่า fold  (cv) ไปเป็น 10 fold ให้  score เป็น ‘precision’  แบบ  micro average แล้วทำการวัดผลอีกครั้ง\n",
        "\n",
        "https://scikit-learn.org/stable/modules/model_evaluation.html#scoring-parameter"
      ]
    },
    {
      "cell_type": "code",
      "source": [],
      "metadata": {
        "id": "ddImB4g_UYm-"
      },
      "execution_count": null,
      "outputs": []
    },
    {
      "cell_type": "code",
      "source": [],
      "metadata": {
        "id": "U9VSPlBhUZdz"
      },
      "execution_count": null,
      "outputs": []
    },
    {
      "cell_type": "code",
      "execution_count": null,
      "metadata": {
        "id": "omAGEncKzPHe"
      },
      "outputs": [],
      "source": [
        "\n"
      ]
    },
    {
      "cell_type": "markdown",
      "metadata": {
        "collapsed": false,
        "id": "olxSQiEozPHf"
      },
      "source": [
        "โดยหลักการแล้วนั้น  Cross\\-Validation จะให้ความน่าเชื่อถือมากกว่าการใช้ Hold\\-Out Method  ส่วนวิธีการ Hold\\-Out Method ก็จะมีข้อดีในเรื่องของความเร็วในการประมวลผล โดยส่วนใหญ่แล้วถ้าการทดสอบไหนที่แบบจำลองมีขนาดใหญ่ หรือปริมาณข้อมูลขนาดใหญ่เราจะนิยมใช้เป็น Hold\\-Out Method เช่นงานทางด้าน image processing และ  NLP เป็นต้น  ส่วนการทดลองใดที่สามารถทำได้เร็วก็จะนิยมทำด้วยวิธี Cross\\-Validation\n",
        "\n"
      ]
    },
    {
      "cell_type": "code",
      "execution_count": null,
      "metadata": {
        "id": "0t0lcfNGzPHf"
      },
      "outputs": [],
      "source": []
    },
    {
      "cell_type": "markdown",
      "metadata": {
        "collapsed": false,
        "id": "TVJKkfXDzPHf"
      },
      "source": []
    },
    {
      "cell_type": "markdown",
      "metadata": {
        "collapsed": false,
        "id": "fXokooRqzPHf"
      },
      "source": [
        "## 7.2 Model Selection"
      ]
    },
    {
      "cell_type": "markdown",
      "metadata": {
        "collapsed": false,
        "id": "DDOg2Lo6zPHf"
      },
      "source": [
        "ในข้อมูลชุดหนึ่งนั้นเราสามารถที่จะสร้างแบบจำลองได้หลายประเภท โดยในแต่ละประเภทเราสามารถสร้างแบบจำลองที่แตกต่างด้วยการปรับพารามิเตอร์ที่เกี่ยวข้องให้แตกต่างกันออกไป สิ่งที่ได้ก็คือเราจะได้โมเดลที่มีประสิทธิภาพแตกต่างกันหลังจากนั้นเราจะเลือกเอาโมเดลที่มีประสิทธิภาพมากที่สุดไปใช้งาน\n",
        "\n",
        "Hyperparameter Turing หมายถึงกระบวนการปรับพารามิเตอร์ที่เกี่ยวข้องเพื่อให้ได้ประสิทธิภาพมากที่สุด โดยจะต้องมีการทดสอบพารามิเตอร์ที่แตกต่างกันแล้วเอาค่าที่ดีที่สุดไปใช้งาน\n",
        "\n",
        "https://scikit-learn.org/stable/modules/grid_search.html\n",
        "\n",
        "การเลือกแบบจำลองนอกจากจะเลือกจากแบบจำลองชนิดเดียวกันแล้วเรายังจะต้องเปรียบเทียบแบบจำลองที่เป็นคนละชนิดกันโดยจะเปรียบเทียบแบบจำลองที่แตกต่างกันที่มีการเลือกพารามิเตอร์ที่ดีที่สุดออกมาแล้ว"
      ]
    },
    {
      "cell_type": "markdown",
      "source": [
        "Theory\n",
        "\n",
        "https://scikit-learn.org/stable/modules/grid_search.html#grid-search\n",
        "\n",
        "\n",
        "Library\n",
        "\n",
        "https://scikit-learn.org/stable/modules/generated/sklearn.model_selection.GridSearchCV.html#sklearn.model_selection.GridSearchCV\n",
        "\n"
      ],
      "metadata": {
        "id": "KqDJ42IXaiGu"
      }
    },
    {
      "cell_type": "markdown",
      "source": [
        "\n",
        "\n",
        "```python\n",
        "from sklearn.model_selection import GridSearchCV\n",
        "gridSearch = GridSearchCV(modelObject, parameters, cv = 5)\n",
        "gridSearch.fit(X, y)\n",
        "\n",
        "```\n",
        "\n"
      ],
      "metadata": {
        "id": "gFGo489qWa3s"
      }
    },
    {
      "cell_type": "markdown",
      "source": [
        "| Method | Description |\n",
        "| :------------ | :---------------------------------------------------------- |\n",
        "| fit\\(X, y \\) | Fit the model according to the given training data. |\n"
      ],
      "metadata": {
        "id": "OQEH_dKJYToB"
      }
    },
    {
      "cell_type": "markdown",
      "source": [
        "ตัวแปรแบบที่สำคัญ\n",
        "* modelObject คือตัว object ของ model ที่จะใช้ในการประเมิน\n",
        "* X,y คือชุดข้อมูลที่จะทำการประเมิน\n",
        "* cv คือจำนวนการแบ่งข้อมูลที่จะทำการ cross validation\n",
        "* scoring คือค่าการวัดที่จะทำการตรวจสอบด้วย cross\n",
        "* parameters เป็น dictionary ของตัวแปรที่จะนำไปทำการค้นหา"
      ],
      "metadata": {
        "id": "wDbn6lGUWamy"
      }
    },
    {
      "cell_type": "markdown",
      "metadata": {
        "collapsed": false,
        "id": "_PJTRKTWzPHf"
      },
      "source": [
        "### Example 4\n",
        "Grid Search Cross-Validation with Support Vector Machine"
      ]
    },
    {
      "cell_type": "code",
      "execution_count": null,
      "metadata": {
        "id": "qRE12BoCzPHf"
      },
      "outputs": [],
      "source": [
        "from sklearn import svm, datasets\n",
        "from sklearn.model_selection import GridSearchCV\n",
        "X,y = datasets.load_iris(return_X_y=True)\n",
        "\n",
        "parameters = {'kernel':['linear', 'rbf'], 'C':[1,2,3,4]}\n",
        "\n",
        "svc = SVC()\n",
        "\n",
        "gS = GridSearchCV(svc, parameters, cv = 5, scoring =  None)\n",
        "gS.fit(X, y)\n",
        "sorted(gS.cv_results_.keys())"
      ]
    },
    {
      "cell_type": "code",
      "execution_count": null,
      "metadata": {
        "id": "ta5IIM2kzPHg"
      },
      "outputs": [],
      "source": [
        "#gS.cv_results_"
      ]
    },
    {
      "cell_type": "code",
      "source": [
        "#gS.cv_results_['rank_test_score']"
      ],
      "metadata": {
        "id": "8jmiu3tBTjGQ"
      },
      "execution_count": null,
      "outputs": []
    },
    {
      "cell_type": "code",
      "source": [
        "#gS.best_estimator_"
      ],
      "metadata": {
        "id": "JIyA81cfViDf"
      },
      "execution_count": null,
      "outputs": []
    },
    {
      "cell_type": "code",
      "source": [
        "#gS.best_score_"
      ],
      "metadata": {
        "id": "uHCkGFBwVh-A"
      },
      "execution_count": null,
      "outputs": []
    },
    {
      "cell_type": "code",
      "source": [
        "#gS.best_params_"
      ],
      "metadata": {
        "id": "1djNo5VWVh6q"
      },
      "execution_count": null,
      "outputs": []
    },
    {
      "cell_type": "code",
      "source": [
        "#gS.best_estimator_.predict(X)"
      ],
      "metadata": {
        "id": "QdZXW5XJVh3R"
      },
      "execution_count": null,
      "outputs": []
    },
    {
      "cell_type": "code",
      "source": [
        "#gS.best_estimator_.score(X,y)"
      ],
      "metadata": {
        "id": "lZuDZyhu6eNZ"
      },
      "execution_count": null,
      "outputs": []
    },
    {
      "cell_type": "code",
      "execution_count": null,
      "metadata": {
        "id": "GghBOBqczPHg"
      },
      "outputs": [],
      "source": [
        "import matplotlib.pyplot as plt\n",
        "import numpy as np"
      ]
    },
    {
      "cell_type": "code",
      "execution_count": null,
      "metadata": {
        "id": "hhmQvW63zPHg"
      },
      "outputs": [],
      "source": [
        "plt.bar(np.arange(1,9), gS.cv_results_['mean_test_score'])\n",
        "plt.ylim(0.9, 1)"
      ]
    },
    {
      "cell_type": "markdown",
      "metadata": {
        "collapsed": false,
        "id": "znTvUA4hzPHh"
      },
      "source": []
    },
    {
      "cell_type": "code",
      "source": [],
      "metadata": {
        "id": "3dUT_Je8bQNM"
      },
      "execution_count": null,
      "outputs": []
    },
    {
      "cell_type": "markdown",
      "source": [
        "## Example 5"
      ],
      "metadata": {
        "id": "Y60PJgWe3-T1"
      }
    },
    {
      "cell_type": "markdown",
      "source": [
        "Grid Search Cross-Validation with Decision Tree Model"
      ],
      "metadata": {
        "id": "eekVxWsu4QZE"
      }
    },
    {
      "cell_type": "code",
      "execution_count": null,
      "metadata": {
        "id": "Y5lR7gyJzPHh"
      },
      "outputs": [],
      "source": [
        "from sklearn import datasets\n",
        "from sklearn.tree import DecisionTreeClassifier\n",
        "from sklearn.model_selection import GridSearchCV\n",
        "X,y = datasets.load_iris(return_X_y= True)\n"
      ]
    },
    {
      "cell_type": "code",
      "source": [
        "parameters = {'criterion':['gini', 'entropy', 'log_loss'], 'max_depth':[2,3,4,5,6,7,8,9,10]}\n",
        "mTree =  DecisionTreeClassifier()"
      ],
      "metadata": {
        "id": "wBUUfGd85Yw8"
      },
      "execution_count": null,
      "outputs": []
    },
    {
      "cell_type": "code",
      "source": [
        "gS = GridSearchCV(mTree, parameters, cv = 5)"
      ],
      "metadata": {
        "id": "ri12cyNV5iAB"
      },
      "execution_count": null,
      "outputs": []
    },
    {
      "cell_type": "code",
      "source": [
        "gS.fit(X,y)\n",
        "# sorted(gS.cv_results_.keys())"
      ],
      "metadata": {
        "id": "wRBnxGkM5dXY"
      },
      "execution_count": null,
      "outputs": []
    },
    {
      "cell_type": "code",
      "execution_count": null,
      "metadata": {
        "id": "qcJdY8MZzPHh"
      },
      "outputs": [],
      "source": [
        "# gS.cv_results_['mean_test_score']"
      ]
    },
    {
      "cell_type": "code",
      "source": [
        "# gS.best_estimator_"
      ],
      "metadata": {
        "id": "B0543T2OUOJR"
      },
      "execution_count": null,
      "outputs": []
    },
    {
      "cell_type": "code",
      "source": [
        "# gS.best_params_"
      ],
      "metadata": {
        "id": "Z4zkYnCGUU-t"
      },
      "execution_count": null,
      "outputs": []
    },
    {
      "cell_type": "code",
      "execution_count": null,
      "metadata": {
        "id": "FiDc0xJszPHi"
      },
      "outputs": [],
      "source": [
        "# gS.cv_results_['params']"
      ]
    },
    {
      "cell_type": "code",
      "execution_count": null,
      "metadata": {
        "id": "ef95sIOPzPHi"
      },
      "outputs": [],
      "source": [
        "# gS.cv_results_['rank_test_score']"
      ]
    },
    {
      "cell_type": "code",
      "execution_count": null,
      "metadata": {
        "id": "RzUwLJ1WzPHi"
      },
      "outputs": [],
      "source": [
        "import matplotlib.pyplot as plt\n",
        "plt.bar(np.arange(1,28), gS.cv_results_['mean_test_score'])\n",
        "plt.ylim(0.9, 1)"
      ]
    },
    {
      "cell_type": "code",
      "execution_count": null,
      "metadata": {
        "id": "xNFAmnoNzPHj"
      },
      "outputs": [],
      "source": [
        "# gS.best_estimator_"
      ]
    },
    {
      "cell_type": "code",
      "source": [
        "# gS.best_params_"
      ],
      "metadata": {
        "id": "H-rwbXnQ3azs"
      },
      "execution_count": null,
      "outputs": []
    },
    {
      "cell_type": "code",
      "source": [
        "# gS.best_score_"
      ],
      "metadata": {
        "id": "3pidshj_3igD"
      },
      "execution_count": null,
      "outputs": []
    },
    {
      "cell_type": "code",
      "source": [
        "# gS.best_estimator_.score(X,y)"
      ],
      "metadata": {
        "id": "XwEwaC313jyR"
      },
      "execution_count": null,
      "outputs": []
    },
    {
      "cell_type": "markdown",
      "metadata": {
        "collapsed": false,
        "id": "Jp9TdXu_zPHj"
      },
      "source": []
    },
    {
      "cell_type": "markdown",
      "metadata": {
        "collapsed": false,
        "id": "JnzfSIAhzPHj"
      },
      "source": []
    },
    {
      "cell_type": "code",
      "source": [
        "from sklearn import datasets\n",
        "from sklearn.tree import DecisionTreeClassifier\n",
        "from sklearn.model_selection import GridSearchCV\n",
        "X,y = datasets.load_iris(return_X_y= True)\n"
      ],
      "metadata": {
        "id": "gm-EHZeG8wJF"
      },
      "execution_count": null,
      "outputs": []
    },
    {
      "cell_type": "code",
      "source": [
        "y"
      ],
      "metadata": {
        "id": "nfTFYKhfVSGv"
      },
      "execution_count": null,
      "outputs": []
    },
    {
      "cell_type": "code",
      "source": [
        "dt = DecisionTreeClassifier( )"
      ],
      "metadata": {
        "id": "rb3qBRWIVl2N"
      },
      "execution_count": null,
      "outputs": []
    },
    {
      "cell_type": "code",
      "source": [
        "prameter = {'criterion' : [\"gini\", \"entropy\", \"log_loss\"], 'max_depth': [1,2,3,4,5]}"
      ],
      "metadata": {
        "id": "q77kRHHCVUqW"
      },
      "execution_count": null,
      "outputs": []
    },
    {
      "cell_type": "code",
      "source": [
        "gG = GridSearchCV(dt,prameter)"
      ],
      "metadata": {
        "id": "SmvBh9DgWfK5"
      },
      "execution_count": null,
      "outputs": []
    },
    {
      "cell_type": "code",
      "source": [
        "#gG.fit(X,y)"
      ],
      "metadata": {
        "id": "1xsMNuhJWtch"
      },
      "execution_count": null,
      "outputs": []
    },
    {
      "cell_type": "code",
      "source": [
        "#gG.best_params_"
      ],
      "metadata": {
        "id": "-mCODMVUWwIu"
      },
      "execution_count": null,
      "outputs": []
    },
    {
      "cell_type": "code",
      "source": [
        "#gG.best_score_"
      ],
      "metadata": {
        "id": "ohKvj7QkW3-M"
      },
      "execution_count": null,
      "outputs": []
    },
    {
      "cell_type": "code",
      "source": [
        "#gG.cv_results_"
      ],
      "metadata": {
        "id": "Z7DQwm1pW-Mb"
      },
      "execution_count": null,
      "outputs": []
    },
    {
      "cell_type": "code",
      "source": [
        "#gG.best_estimator_.score(X,y)"
      ],
      "metadata": {
        "id": "HYM9bzz5XMBr"
      },
      "execution_count": null,
      "outputs": []
    },
    {
      "cell_type": "code",
      "source": [],
      "metadata": {
        "id": "9roY1LGlXidg"
      },
      "execution_count": null,
      "outputs": []
    },
    {
      "cell_type": "markdown",
      "source": [
        "Test KNN Model"
      ],
      "metadata": {
        "id": "lurDOiKuX6ED"
      }
    },
    {
      "cell_type": "code",
      "source": [
        "from sklearn.neighbors import KNeighborsClassifier"
      ],
      "metadata": {
        "id": "ID9CHuqQX7uN"
      },
      "execution_count": null,
      "outputs": []
    },
    {
      "cell_type": "code",
      "source": [
        "kNN = KNeighborsClassifier()"
      ],
      "metadata": {
        "id": "F08y1J3BYTdk"
      },
      "execution_count": null,
      "outputs": []
    },
    {
      "cell_type": "code",
      "source": [
        "from sklearn.model_selection import GridSearchCV"
      ],
      "metadata": {
        "id": "8FqrHnHEYl3z"
      },
      "execution_count": null,
      "outputs": []
    },
    {
      "cell_type": "code",
      "source": [],
      "metadata": {
        "id": "5pZyfUzzYrMr"
      },
      "execution_count": null,
      "outputs": []
    },
    {
      "cell_type": "code",
      "source": [
        "parameters = {'n_neighbors':[1,2,3,4,5,6]}"
      ],
      "metadata": {
        "id": "Hv5uj_RfYfyG"
      },
      "execution_count": null,
      "outputs": []
    },
    {
      "cell_type": "code",
      "source": [
        "#gS1 = GridSearchCV(kNN,parameters)"
      ],
      "metadata": {
        "id": "9gVLE5tSY7Ir"
      },
      "execution_count": null,
      "outputs": []
    },
    {
      "cell_type": "code",
      "source": [
        "#gS1.fit(X,y)"
      ],
      "metadata": {
        "id": "QPoQHNaoZGEU"
      },
      "execution_count": null,
      "outputs": []
    },
    {
      "cell_type": "code",
      "source": [
        "#gS1.best_params_"
      ],
      "metadata": {
        "id": "Ln496oQkZJC5"
      },
      "execution_count": null,
      "outputs": []
    },
    {
      "cell_type": "code",
      "source": [
        "#gS1.best_score_"
      ],
      "metadata": {
        "id": "5hMWsTZwZRIB"
      },
      "execution_count": null,
      "outputs": []
    },
    {
      "cell_type": "code",
      "source": [],
      "metadata": {
        "id": "62P5bMfBZUtt"
      },
      "execution_count": null,
      "outputs": []
    }
  ],
  "metadata": {
    "kernelspec": {
      "argv": [
        "/usr/bin/python3",
        "-m",
        "ipykernel",
        "--HistoryManager.enabled=False",
        "--matplotlib=inline",
        "-c",
        "%config InlineBackend.figure_formats = set(['retina'])\nimport matplotlib; matplotlib.rcParams['figure.figsize'] = (12, 7)",
        "-f",
        "{connection_file}"
      ],
      "display_name": "Python 3 (system-wide)",
      "env": {},
      "language": "python",
      "metadata": {
        "cocalc": {
          "description": "Python 3 programming language",
          "priority": 100,
          "url": "https://www.python.org/"
        }
      },
      "name": "python3",
      "resource_dir": "/ext/jupyter/kernels/python3"
    },
    "language_info": {
      "codemirror_mode": {
        "name": "ipython",
        "version": 3
      },
      "file_extension": ".py",
      "mimetype": "text/x-python",
      "name": "python",
      "nbconvert_exporter": "python",
      "pygments_lexer": "ipython3",
      "version": "3.10.12"
    },
    "colab": {
      "provenance": [],
      "include_colab_link": true
    }
  },
  "nbformat": 4,
  "nbformat_minor": 0
}