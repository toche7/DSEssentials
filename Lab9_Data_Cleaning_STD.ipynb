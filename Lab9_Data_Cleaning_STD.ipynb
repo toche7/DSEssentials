{
  "metadata": {
    "kernelspec": {
      "language": "python",
      "display_name": "Python 3",
      "name": "python3"
    },
    "language_info": {
      "name": "python",
      "version": "3.10.13",
      "mimetype": "text/x-python",
      "codemirror_mode": {
        "name": "ipython",
        "version": 3
      },
      "pygments_lexer": "ipython3",
      "nbconvert_exporter": "python",
      "file_extension": ".py"
    },
    "kaggle": {
      "accelerator": "none",
      "dataSources": [
        {
          "sourceId": 6873793,
          "sourceType": "datasetVersion",
          "datasetId": 3949932
        }
      ],
      "dockerImageVersionId": 30746,
      "isInternetEnabled": true,
      "language": "python",
      "sourceType": "notebook",
      "isGpuEnabled": false
    },
    "colab": {
      "provenance": [],
      "include_colab_link": true
    }
  },
  "nbformat_minor": 0,
  "nbformat": 4,
  "cells": [
    {
      "cell_type": "markdown",
      "metadata": {
        "id": "view-in-github",
        "colab_type": "text"
      },
      "source": [
        "<a href=\"https://colab.research.google.com/github/toche7/DSEssentials/blob/main/Lab9_Data_Cleaning_STD.ipynb\" target=\"_parent\"><img src=\"https://colab.research.google.com/assets/colab-badge.svg\" alt=\"Open In Colab\"/></a>"
      ]
    },
    {
      "cell_type": "code",
      "source": [
        "import numpy as np # linear algebra\n",
        "import pandas as pd # data processing, CSV file I/O (e.g. pd.read_csv)\n",
        "import re\n",
        "import matplotlib.pyplot as plt\n"
      ],
      "metadata": {
        "_uuid": "8f2839f25d086af736a60e9eeb907d3b93b6e0e5",
        "_cell_guid": "b1076dfc-b9ad-4769-8c92-a6c4dae69d19",
        "execution": {
          "iopub.status.busy": "2024-08-08T19:11:35.262579Z",
          "iopub.execute_input": "2024-08-08T19:11:35.262981Z",
          "iopub.status.idle": "2024-08-08T19:11:35.281396Z",
          "shell.execute_reply.started": "2024-08-08T19:11:35.262947Z",
          "shell.execute_reply": "2024-08-08T19:11:35.280115Z"
        },
        "trusted": true,
        "id": "8qwiWnHuGixU"
      },
      "execution_count": null,
      "outputs": []
    },
    {
      "cell_type": "code",
      "source": [
        "df = pd.read_csv(\"https://github.com/toche7/DataSets/raw/main/dirty_data_to_practice.csv\")\n",
        "df"
      ],
      "metadata": {
        "execution": {
          "iopub.status.busy": "2024-08-08T18:44:16.494122Z",
          "iopub.execute_input": "2024-08-08T18:44:16.494521Z",
          "iopub.status.idle": "2024-08-08T18:44:16.520456Z",
          "shell.execute_reply.started": "2024-08-08T18:44:16.494491Z",
          "shell.execute_reply": "2024-08-08T18:44:16.519371Z"
        },
        "trusted": true,
        "id": "dNnutoXYGixU"
      },
      "execution_count": null,
      "outputs": []
    },
    {
      "cell_type": "code",
      "source": [
        "df.columns"
      ],
      "metadata": {
        "id": "jtFkL2I2J1jN"
      },
      "execution_count": null,
      "outputs": []
    },
    {
      "cell_type": "code",
      "source": [
        "df.info()\n"
      ],
      "metadata": {
        "execution": {
          "iopub.status.busy": "2024-08-08T18:44:18.847185Z",
          "iopub.execute_input": "2024-08-08T18:44:18.847887Z",
          "iopub.status.idle": "2024-08-08T18:44:18.860471Z",
          "shell.execute_reply.started": "2024-08-08T18:44:18.847855Z",
          "shell.execute_reply": "2024-08-08T18:44:18.859377Z"
        },
        "trusted": true,
        "id": "7jufJkC6GixU"
      },
      "execution_count": null,
      "outputs": []
    },
    {
      "cell_type": "markdown",
      "source": [
        "### ลบตัวอักขระพิเศษ ใน Column. Ref"
      ],
      "metadata": {
        "id": "w2yeSV9UPchJ"
      }
    },
    {
      "cell_type": "markdown",
      "source": [
        "โค้ดส่วนนี้กำหนดฟังก์ชันชื่อ clean_text ซึ่งมีวัตถุประสงค์เพื่อทำความสะอาดข้อความโดยการลบอักขระใดๆ ที่ไม่ใช่ตัวอักษร (a-z, A-Z) หรือตัวเลข (0-9)\n",
        "```\n",
        "def clean_text(text):\n",
        "    text = re.sub(r\"[^a-zA-Z0-9]\", \"\" , text)\n",
        "    return text\n",
        "```\n",
        "\n",
        "\n",
        "1. def clean_text(text):: บรรทัดนี้กำหนดฟังก์ชันชื่อ clean_text โดยรับอินพุตหนึ่งตัว ซึ่งคาดว่าจะเป็นสตริงของข้อความ และแสดงด้วยตัวแปร text\n",
        "\n",
        "2. text = re.sub(r\"[^a-zA-Z0-9]\", \"\" , text): นี่คือแก่นของกระบวนการทำความสะอาด\n",
        "\n",
        "* re.sub เป็นฟังก์ชันจากโมดูล re (regular expressions) ซึ่งใช้สำหรับแทนที่ส่วนของสตริงที่ตรงกับรูปแบบ\n",
        "r\"[^a-zA-Z0-9]\" คือรูปแบบ\n",
        "ตัว r ก่อนสตริงระบุ \"raw string\" ซึ่งมักใช้กับ regular expressions\n",
        "* [^a-zA-Z0-9] คือรูปแบบจริง วงเล็บเหลี่ยม [] กำหนดชุดอักขระ และ ^ ที่จุดเริ่มต้นหมายถึง \"ไม่ใช่อักขระเหล่านี้\" ดังนั้นรูปแบบนี้จะจับคู่อักขระใดๆ ที่ ไม่ใช่ ตัวอักษรตัวพิมพ์เล็ก (a-z), ตัวอักษรตัวพิมพ์ใหญ่ (A-Z) หรือตัวเลข (0-9)\n",
        "* \"\": นี่คือสตริงทดแทน อักขระใดๆ ที่ตรงกับรูปแบบจะถูกแทนที่ด้วยสตริงว่าง ซึ่งจะลบออกอย่างมีประสิทธิภาพ\n",
        "* text: นี่คือสตริงอินพุตที่จะเกิดการแทนที่\n",
        "3. return text: หลังจากทำความสะอาดแล้ว บรรทัดนี้จะส่งคืน text ที่แก้ไขแล้ว"
      ],
      "metadata": {
        "id": "JVfhXiaNREWb"
      }
    },
    {
      "cell_type": "code",
      "source": [
        "# def clean_text(text):\n",
        "#     text = re.sub(r\"[^a-zA-Z0-9]\", \"\" , text)\n",
        "#     return text"
      ],
      "metadata": {
        "id": "gSLCX2xXQm8k"
      },
      "execution_count": null,
      "outputs": []
    },
    {
      "cell_type": "code",
      "source": [
        "# df[\"Ref.\"]= df[\"Ref.\"].apply(clean_text)\n",
        "# df"
      ],
      "metadata": {
        "execution": {
          "iopub.status.busy": "2024-08-08T18:44:21.944349Z",
          "iopub.execute_input": "2024-08-08T18:44:21.944734Z",
          "iopub.status.idle": "2024-08-08T18:44:21.964228Z",
          "shell.execute_reply.started": "2024-08-08T18:44:21.944707Z",
          "shell.execute_reply": "2024-08-08T18:44:21.962988Z"
        },
        "trusted": true,
        "id": "a2FcZM3kGixV"
      },
      "execution_count": null,
      "outputs": []
    },
    {
      "cell_type": "markdown",
      "source": [],
      "metadata": {
        "id": "1BnmtEViS6AK"
      }
    },
    {
      "cell_type": "code",
      "source": [
        "print([{col} for col in df.columns])"
      ],
      "metadata": {
        "execution": {
          "iopub.status.busy": "2024-08-08T18:44:25.269432Z",
          "iopub.execute_input": "2024-08-08T18:44:25.269785Z",
          "iopub.status.idle": "2024-08-08T18:44:25.275601Z",
          "shell.execute_reply.started": "2024-08-08T18:44:25.269759Z",
          "shell.execute_reply": "2024-08-08T18:44:25.274476Z"
        },
        "trusted": true,
        "id": "c3s_ab_oGixV"
      },
      "execution_count": null,
      "outputs": []
    },
    {
      "cell_type": "code",
      "source": [
        "[{col} for col in df.columns]"
      ],
      "metadata": {
        "id": "nbTbD_cOKWRu"
      },
      "execution_count": null,
      "outputs": []
    },
    {
      "cell_type": "markdown",
      "source": [
        "### แก้อักขระพิเศษใน columns name"
      ],
      "metadata": {
        "id": "m2il5J5bTBj6"
      }
    },
    {
      "cell_type": "code",
      "source": [
        "# df.columns = df.columns.str.replace('\\xa0', ' ', regex=False)\n",
        "# print([col for col in df.columns])"
      ],
      "metadata": {
        "execution": {
          "iopub.status.busy": "2024-08-08T18:44:37.728436Z",
          "iopub.execute_input": "2024-08-08T18:44:37.728822Z",
          "iopub.status.idle": "2024-08-08T18:44:37.736247Z",
          "shell.execute_reply.started": "2024-08-08T18:44:37.728793Z",
          "shell.execute_reply": "2024-08-08T18:44:37.734874Z"
        },
        "trusted": true,
        "id": "bk-7XOL7GixV"
      },
      "execution_count": null,
      "outputs": []
    },
    {
      "cell_type": "markdown",
      "source": [
        "### เปลี่ยน spacebar ไปเป็น underscore"
      ],
      "metadata": {
        "id": "MGi_1uPbTSy_"
      }
    },
    {
      "cell_type": "code",
      "source": [
        "# df.columns = df.columns.str.replace(' ', '_', regex=False)\n",
        "# print([col for col in df.columns])\n"
      ],
      "metadata": {
        "id": "RD7DA7egTQRj"
      },
      "execution_count": null,
      "outputs": []
    },
    {
      "cell_type": "code",
      "source": [],
      "metadata": {
        "id": "uyj8zqc3dP8W"
      },
      "execution_count": null,
      "outputs": []
    },
    {
      "cell_type": "code",
      "source": [],
      "metadata": {
        "id": "TUybROkGdP0v"
      },
      "execution_count": null,
      "outputs": []
    },
    {
      "cell_type": "markdown",
      "source": [
        "### Clear Column Actual_gross, Average_gross"
      ],
      "metadata": {
        "id": "bnbYkdxydSXk"
      }
    },
    {
      "cell_type": "code",
      "source": [
        "# def clean_text2(text):\n",
        "#     text = re.sub(r\"\\[\\s*.*?\\s*\\]\", \"\" , text)\n",
        "#     text = re.sub(r\"[^a-zA-Z0-9]\", \"\" , text)\n",
        "#     return text\n",
        "\n",
        "# columns = [\"Actual_gross\" , \"Adjusted_gross_(in_2022_dollars)\" , \"Average_gross\"]\n",
        "# for column in columns:\n",
        "#     df[column] = df[column].apply(clean_text2)\n",
        "# df"
      ],
      "metadata": {
        "execution": {
          "iopub.status.busy": "2024-08-08T18:45:52.937429Z",
          "iopub.execute_input": "2024-08-08T18:45:52.937805Z",
          "iopub.status.idle": "2024-08-08T18:45:52.959983Z",
          "shell.execute_reply.started": "2024-08-08T18:45:52.937776Z",
          "shell.execute_reply": "2024-08-08T18:45:52.958705Z"
        },
        "trusted": true,
        "id": "ltJhYZvcGixV"
      },
      "execution_count": null,
      "outputs": []
    },
    {
      "cell_type": "markdown",
      "source": [
        "### กรณีที่มี NaN ปนอยู่\n",
        "อธิบายโค้ด:\n",
        "```\n",
        "def clean_peak(text):\n",
        "    if not pd.isna(text):\n",
        "        text =  re.sub(r\"\\[\\s*.*?\\s*\\]\", \"\" , text)\n",
        "    return text\n",
        "```\n",
        "\n",
        "1. def clean_peak(text):: บรรทัดนี้กำหนดฟังก์ชันชื่อ clean_peak ซึ่งรับ argument หนึ่งตัวคือ text ซึ่งแทนสตริงข้อความที่ต้องการทำความสะอาด\n",
        "\n",
        "2. if not pd.isna(text):: บรรทัดนี้ใช้ฟังก์ชัน pd.isna() จากไลบรารี pandas เพื่อตรวจสอบว่า text เป็นค่า missing (แทนด้วย NaN ใน pandas) หรือไม่ หาก text ไม่ใช่ ค่า missing โค้ดภายในบล็อก if จะถูกเรียกใช้งาน ซึ่งสำคัญเพราะการใช้ regular expression กับค่า missing จะทำให้เกิดข้อผิดพลาด\n",
        "\n",
        "3. text = re.sub(r\"\\[\\s*.*?\\s*\\]\", \"\" , text): นี่คือส่วนสำคัญของกระบวนการทำความสะอาด โดยใช้ฟังก์ชัน re.sub() จากโมดูล re (regular expressions) เพื่อทำการแทนที่ข้อความภายในสตริง text\n",
        "\n",
        "4. return text: หลังจากกระบวนการทำความสะอาด (หรือหาก text เป็นค่า missing ตั้งแต่ต้น) บรรทัดนี้จะส่งคืนสตริง text ที่อาจถูกแก้ไขแล้ว"
      ],
      "metadata": {
        "id": "x7yi3MtVNR8R"
      }
    },
    {
      "cell_type": "markdown",
      "source": [
        "r\"\\[\\s*.*?\\s*\\]\": ส่วนนี้คือ regular expression pattern ที่ใช้ในการค้นหาข้อความที่อยู่ในวงเล็บเหลี่ยม\n",
        "*   r\"\": ระบุว่า string ข้างในเป็น raw string ซึ่งจะไม่ escape อักขระพิเศษ\n",
        "* \\[ และ \\]: ใช้ escape วงเล็บเหลี่ยม เพราะวงเล็บเหลี่ยมมีความหมายพิเศษใน regular expression\n",
        "* \\s*: หมายถึงช่องว่าง 0 ตัวหรือมากกว่า\n",
        "* .*?: หมายถึงอักขระใดๆ 0 ตัวหรือมากกว่า"
      ],
      "metadata": {
        "id": "lhRDCzA1NacT"
      }
    },
    {
      "cell_type": "markdown",
      "source": [],
      "metadata": {
        "id": "Tdntr4qnXjLe"
      }
    },
    {
      "cell_type": "code",
      "source": [
        "# def clean_peak(text):\n",
        "#     if not pd.isna(text):\n",
        "#         text =  re.sub(r\"\\[\\s*.*?\\s*\\]\", \"\" , text)\n",
        "#     return text\n",
        "# columns = [\"Peak\" , \"All_Time_Peak\"]\n",
        "# for column in columns:\n",
        "#     df[column] = df[column].apply(clean_peak)\n",
        "# df"
      ],
      "metadata": {
        "execution": {
          "iopub.status.busy": "2024-08-08T18:55:46.838694Z",
          "iopub.execute_input": "2024-08-08T18:55:46.839048Z",
          "iopub.status.idle": "2024-08-08T18:55:46.861822Z",
          "shell.execute_reply.started": "2024-08-08T18:55:46.839021Z",
          "shell.execute_reply": "2024-08-08T18:55:46.860475Z"
        },
        "trusted": true,
        "id": "gs68QGyHGixW"
      },
      "execution_count": null,
      "outputs": []
    },
    {
      "cell_type": "markdown",
      "source": [
        "### ปรับแก้ Column Tour title"
      ],
      "metadata": {
        "id": "CMudwfhjYhM_"
      }
    },
    {
      "cell_type": "code",
      "source": [
        "# def clean_title(text):\n",
        "#     text =  re.sub(r\"[^a-zA-Z ]\", \"\" , text)\n",
        "#     return text\n",
        "# df[\"Tour_title\"] = df[\"Tour_title\"].apply(clean_title)"
      ],
      "metadata": {
        "execution": {
          "iopub.status.busy": "2024-08-08T19:00:12.043837Z",
          "iopub.execute_input": "2024-08-08T19:00:12.044272Z",
          "iopub.status.idle": "2024-08-08T19:00:12.052381Z",
          "shell.execute_reply.started": "2024-08-08T19:00:12.04424Z",
          "shell.execute_reply": "2024-08-08T19:00:12.050813Z"
        },
        "trusted": true,
        "id": "PPmIpTijGixW"
      },
      "execution_count": null,
      "outputs": []
    },
    {
      "cell_type": "markdown",
      "source": [
        "###  แก้ไขค่าข้อมูลบางค่าไปเป็นค่าอื่น"
      ],
      "metadata": {
        "id": "vbyn0W_KYpKu"
      }
    },
    {
      "cell_type": "code",
      "source": [
        "# df[\"Ref.\"] = df[\"Ref.\"].replace(\"1516\" , \"15,16\")\n",
        "# df[\"Ref.\"] = df[\"Ref.\"].replace(\"d\" , \"5\")"
      ],
      "metadata": {
        "execution": {
          "iopub.status.busy": "2024-08-08T19:04:13.117519Z",
          "iopub.execute_input": "2024-08-08T19:04:13.117917Z",
          "iopub.status.idle": "2024-08-08T19:04:13.125036Z",
          "shell.execute_reply.started": "2024-08-08T19:04:13.117886Z",
          "shell.execute_reply": "2024-08-08T19:04:13.123782Z"
        },
        "trusted": true,
        "id": "fAOSLLdUGixW"
      },
      "execution_count": null,
      "outputs": []
    },
    {
      "cell_type": "code",
      "source": [
        "df"
      ],
      "metadata": {
        "id": "inodRztzdpGZ"
      },
      "execution_count": null,
      "outputs": []
    },
    {
      "cell_type": "code",
      "source": [],
      "metadata": {
        "id": "4C7TmZKjdpDA"
      },
      "execution_count": null,
      "outputs": []
    },
    {
      "cell_type": "markdown",
      "source": [
        "### เปลี่ยนชนิดของข้อมูล"
      ],
      "metadata": {
        "id": "vUp9L3m5d040"
      }
    },
    {
      "cell_type": "code",
      "source": [
        "# numeric_cols = [\"Actual_gross\" , \"Adjusted_gross_(in_2022_dollars)\"\n",
        "#                 , \"Average_gross\" , \"Shows\" , \"Peak\" , \"All_Time_Peak\"]\n",
        "# for cols in numeric_cols :\n",
        "#     df[cols] = df[cols].astype(\"float\")"
      ],
      "metadata": {
        "execution": {
          "iopub.status.busy": "2024-08-08T19:08:26.775281Z",
          "iopub.execute_input": "2024-08-08T19:08:26.775749Z",
          "iopub.status.idle": "2024-08-08T19:08:26.785055Z",
          "shell.execute_reply.started": "2024-08-08T19:08:26.775717Z",
          "shell.execute_reply": "2024-08-08T19:08:26.783661Z"
        },
        "trusted": true,
        "id": "7gUQ-jjEGixW"
      },
      "execution_count": null,
      "outputs": []
    },
    {
      "cell_type": "code",
      "source": [
        "df"
      ],
      "metadata": {
        "id": "HlzDrQkwZLry"
      },
      "execution_count": null,
      "outputs": []
    },
    {
      "cell_type": "markdown",
      "source": [
        "### Drop บาง Column ทิ้งไป"
      ],
      "metadata": {
        "id": "s20mZ_X_duqH"
      }
    },
    {
      "cell_type": "code",
      "source": [
        "# df = df.drop([\"All_Time_Peak\" , \"Peak\"] , axis =1)\n",
        "# df"
      ],
      "metadata": {
        "execution": {
          "iopub.status.busy": "2024-08-08T19:15:49.707744Z",
          "iopub.execute_input": "2024-08-08T19:15:49.708143Z",
          "iopub.status.idle": "2024-08-08T19:15:49.735193Z",
          "shell.execute_reply.started": "2024-08-08T19:15:49.708113Z",
          "shell.execute_reply": "2024-08-08T19:15:49.734084Z"
        },
        "trusted": true,
        "id": "BMfcpMnTGixX"
      },
      "execution_count": null,
      "outputs": []
    },
    {
      "cell_type": "code",
      "source": [
        "df.info()"
      ],
      "metadata": {
        "id": "n2yxLa2-PMsR"
      },
      "execution_count": null,
      "outputs": []
    }
  ]
}