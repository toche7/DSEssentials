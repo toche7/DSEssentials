{
  "cells": [
    {
      "cell_type": "markdown",
      "metadata": {
        "id": "view-in-github",
        "colab_type": "text"
      },
      "source": [
        "<a href=\"https://colab.research.google.com/github/toche7/DSEssentials/blob/main/Lab8_KMean_STD.ipynb\" target=\"_parent\"><img src=\"https://colab.research.google.com/assets/colab-badge.svg\" alt=\"Open In Colab\"/></a>"
      ]
    },
    {
      "cell_type": "markdown",
      "metadata": {
        "collapsed": false,
        "id": "PMZmdKAXDngx"
      },
      "source": [
        "# Lab 8 K-Means Clustering\n",
        "ver: 001"
      ]
    },
    {
      "cell_type": "markdown",
      "metadata": {
        "collapsed": false,
        "id": "-Du-NhFyDng0"
      },
      "source": [
        "\n",
        "อีกประเภทหนึ่งของ Machine Learning ก็คือ Unservised Learning  หรือการเรียนรู้แบบไม่มีผู้สอนโดยในกลุ่มนี้จะไม่ได้มีวัตถุประสงค์ในการทำนายหรือคาดการณ์คำตอบ แต่โดยส่วนใหญ่จะเป็นเรื่องของการเตรียม ข้อมูล อาทิ การแบ่งกลุ่มข้อมูล การลดมิติข้อมูล หรือการตรวจจับความผิดปกติของข้อมูล สำหรับเนื้อหาในบทนี้ในส่วนนี้เราจะยกตัวอย่างโดยการใช้เทคนิค K-mean ในการแบ่งกลุ่มข้อมูลหรือ Clustering  ดังจะได้แสดงให้เห็นดังต่อไปนี้\n"
      ]
    },
    {
      "cell_type": "markdown",
      "metadata": {
        "collapsed": false,
        "id": "7oGVS6JcDng0"
      },
      "source": [
        "K-mean เป็นเทคนิคในการแบ่งข้อมูลออกเป็นกลุ่ม ๆ โดยจำนวนกลุ่มจะถูกแบ่งออกเป็น K กลุ่มด้วยกัน โดยหลักการของ k-mean นั้นจะใช้เทคนิคการวัดระยะห่าง จากตัวข้อมูลนั้นๆไปยังเจุดศูนย์กลางกลุ่มข้อมูล โดยจำนวนกลุ่มข้อมูลจะต้องมีการกำหนดขึ้นมาก่อนว่าจะมีกี่ตัวอย่างเช่นกำหนดเป็น 2  กลุ่ม k ก็จะเท่ากับ 2 ถ้ากำหนดเป็น 3 กลุ่มเขตก็จะเท่ากับ 3 เป็นต้น"
      ]
    },
    {
      "cell_type": "markdown",
      "metadata": {
        "collapsed": false,
        "id": "pUDpRlT9Dng1"
      },
      "source": [
        "\n",
        "Model Theory\n",
        "https://scikit-learn.org/stable/modules/clustering.html#k-means\n",
        "\n",
        "Library Details\n",
        "https://scikit-learn.org/stable/modules/generated/sklearn.cluster.KMeans.html\n"
      ]
    },
    {
      "cell_type": "markdown",
      "metadata": {
        "collapsed": false,
        "id": "-H-AR8JpDng1"
      },
      "source": [
        "```\n",
        "from sklearn.cluster import KMeans\n",
        "kmeans = KMeans(n_clusters=2, random_state=0, n_init=\"auto\").fit(X)\n",
        "kmeans.labels_\n",
        "```\n",
        "\n"
      ]
    },
    {
      "cell_type": "markdown",
      "metadata": {
        "collapsed": false,
        "id": "e9fOqMWrDng1"
      },
      "source": [
        "| Method | Description |\n",
        "| :------------ | :---------------------------------------------------------- |\n",
        "| fit\\(X \\) | ทำการ Train Model เพื่อแบ่ง cluster |\n",
        "|labels_ | รายการ cluster ที่กำกับข้อมูลในแต่ละแถว  |\n",
        "\n",
        "\n"
      ]
    },
    {
      "cell_type": "code",
      "execution_count": null,
      "metadata": {
        "id": "81RpTiJdDng2"
      },
      "outputs": [],
      "source": []
    },
    {
      "cell_type": "markdown",
      "metadata": {
        "collapsed": false,
        "id": "PzHRLXSfDng2"
      },
      "source": []
    },
    {
      "cell_type": "markdown",
      "metadata": {
        "collapsed": false,
        "id": "2UCktbmADng2"
      },
      "source": [
        "## 8.1 K-means Clustering of the forest fires\n",
        "\n",
        "ในการทดลองนี้เราจะได้ทำการแบ่งข้อมูลที่ Sensor ที่วัดจากป่าที่ประกอบด้วยค่าอุณหภูมิ (Temperature) ความชื้น (Humidity) และข้อมูลจะประวัติการเกิดไฟไหม้ (Fires) ด้วย แต่ในกรณีนี้เราจะไม่ได้นข้อมูลจะประวัติการเกิดไฟไหม้มาใช้งาน\n",
        "\n",
        "ในการใช้งาน Python กรณีเราต้องใช้ Library ภายนอกมาใช้งานเราต้องทำการนำเข้า Library นั้นด้วยคำสั่ง Import ตาม Cell ด้านล่างนี้\n"
      ]
    },
    {
      "cell_type": "code",
      "execution_count": null,
      "metadata": {
        "id": "K44pmrgNDng2"
      },
      "outputs": [],
      "source": [
        "import numpy as np\n",
        "import pandas as pd\n",
        "import matplotlib.pyplot as plt\n"
      ]
    },
    {
      "cell_type": "markdown",
      "metadata": {
        "collapsed": false,
        "id": "DXCr-n-VDng3"
      },
      "source": [
        "###  Load Data\n",
        "\n",
        "ทำการโหลดข้อมูลจากไฟล์ csv ไปเก็บไว้ใน df ซึ่งเป็นข้อมูลประเภท Dataframe ของ library Pandas <br>\n",
        "กรณีที่อยากโหลดข้อมูลจากเวปไซท์โดยตรงแล้วมาเก็บไว้ในเครื่องให้เอา comment ของบรรทัด wget ออกก็จะเป็นการโหลดข้อมูลจากเวปมา save เป็นไฟล์ชื่อว่า forest_fires.csv"
      ]
    },
    {
      "cell_type": "code",
      "execution_count": null,
      "metadata": {
        "id": "5F7XyOHMDng3"
      },
      "outputs": [],
      "source": [
        "!wget https://raw.githubusercontent.com/adminho/machine-learning/master/Datasets/forest_fires.csv?dl=0 -O forest_fires.csv\n",
        "df = pd.read_csv(\"forest_fires.csv\")"
      ]
    },
    {
      "cell_type": "code",
      "source": [
        "df"
      ],
      "metadata": {
        "id": "LYTyTRU_FA1V"
      },
      "execution_count": null,
      "outputs": []
    },
    {
      "cell_type": "code",
      "source": [],
      "metadata": {
        "id": "YDUsM4aVFAxp"
      },
      "execution_count": null,
      "outputs": []
    },
    {
      "cell_type": "markdown",
      "metadata": {
        "collapsed": false,
        "id": "pOPvAO8ADng4"
      },
      "source": [
        "### Plot Graph\n",
        "\n",
        "ทำการ plot graph เพื่อดูการกระจายของข้อมูลด้วยวิธีการ Library Pandas เปรียบเทียบ matplotlib"
      ]
    },
    {
      "cell_type": "markdown",
      "metadata": {
        "collapsed": false,
        "id": "7pVKeowWDng4"
      },
      "source": [
        "#### Plot graph using Pandas"
      ]
    },
    {
      "cell_type": "code",
      "execution_count": null,
      "metadata": {
        "id": "JXBjOoc8Dng5"
      },
      "outputs": [],
      "source": [
        "df.plot.scatter(x='Temperature', y='Humidity', c='Red')"
      ]
    },
    {
      "cell_type": "markdown",
      "metadata": {
        "collapsed": false,
        "id": "Z2bkZ-ByDng5"
      },
      "source": [
        "### Training K-Means\n",
        "ทำการ clustering ข้อมูลด้วยวิธีการ K-means ด้วย Library Scikit-Learn"
      ]
    },
    {
      "cell_type": "code",
      "source": [
        "from sklearn.cluster import KMeans\n",
        "import numpy as np"
      ],
      "metadata": {
        "id": "rmGT3N7LFU9o"
      },
      "execution_count": null,
      "outputs": []
    },
    {
      "cell_type": "code",
      "source": [
        "km = KMeans(n_clusters=2, n_init=10, random_state=0)"
      ],
      "metadata": {
        "id": "FKEmFB-1lnm2"
      },
      "execution_count": null,
      "outputs": []
    },
    {
      "cell_type": "code",
      "source": [
        "X = df[['Temperature', 'Humidity']]"
      ],
      "metadata": {
        "id": "VVEUnM36mj-U"
      },
      "execution_count": null,
      "outputs": []
    },
    {
      "cell_type": "code",
      "source": [
        "km.fit(X)"
      ],
      "metadata": {
        "id": "zYVrFuBKltEj"
      },
      "execution_count": null,
      "outputs": []
    },
    {
      "cell_type": "code",
      "source": [
        "km.labels_"
      ],
      "metadata": {
        "id": "JyA8kS9Blzi4"
      },
      "execution_count": null,
      "outputs": []
    },
    {
      "cell_type": "code",
      "source": [
        "km.cluster_centers_"
      ],
      "metadata": {
        "id": "O4xV1bt3kzZX"
      },
      "execution_count": null,
      "outputs": []
    },
    {
      "cell_type": "code",
      "execution_count": null,
      "metadata": {
        "id": "1J27KlitDng5"
      },
      "outputs": [],
      "source": [
        "for i, center in enumerate(km.cluster_centers_):\n",
        "  print(\"center %d:\" %i, center)"
      ]
    },
    {
      "cell_type": "code",
      "execution_count": null,
      "metadata": {
        "id": "Nzt6VzIuDng6"
      },
      "outputs": [],
      "source": [
        "X['label'] = km.labels_"
      ]
    },
    {
      "cell_type": "code",
      "source": [
        "X"
      ],
      "metadata": {
        "id": "bFG4u1u9nDQK"
      },
      "execution_count": null,
      "outputs": []
    },
    {
      "cell_type": "code",
      "execution_count": null,
      "metadata": {
        "id": "CtGCLVMRDng6"
      },
      "outputs": [],
      "source": [
        "X[X['label'] == 1]['Temperature']"
      ]
    },
    {
      "cell_type": "code",
      "execution_count": null,
      "metadata": {
        "id": "oJLxtl5EDng6"
      },
      "outputs": [],
      "source": [
        "plt.plot(X[X['label'] == 1]['Temperature'],X[X['label'] == 1]['Humidity'], '*r')\n",
        "plt.plot(X[X['label'] == 0]['Temperature'],X[X['label'] == 0]['Humidity'], '*b')\n"
      ]
    },
    {
      "cell_type": "code",
      "execution_count": null,
      "metadata": {
        "id": "q3NWl0gyDng6"
      },
      "outputs": [],
      "source": [
        "X.plot.scatter('Temperature','Humidity', c = 'label', colormap='viridis')"
      ]
    },
    {
      "cell_type": "markdown",
      "metadata": {
        "collapsed": false,
        "id": "QDGJ88gMDng6"
      },
      "source": [
        "## K-Mean Measurement Matrix"
      ]
    },
    {
      "cell_type": "markdown",
      "source": [
        "### Silhouette\n",
        "Silhouette is a method of interpretation and validation of consistency within clusters of data."
      ],
      "metadata": {
        "id": "pE3xEDbkIEuN"
      }
    },
    {
      "cell_type": "code",
      "execution_count": null,
      "metadata": {
        "id": "mR0EYY-KDng7"
      },
      "outputs": [],
      "source": [
        "from sklearn import metrics\n",
        "metrics.silhouette_score(X, km.labels_)"
      ]
    },
    {
      "cell_type": "code",
      "source": [],
      "metadata": {
        "id": "ZzS3BNr6HkzV"
      },
      "execution_count": null,
      "outputs": []
    },
    {
      "cell_type": "code",
      "source": [],
      "metadata": {
        "id": "C22rMHKJHkqe"
      },
      "execution_count": null,
      "outputs": []
    },
    {
      "cell_type": "code",
      "source": [],
      "metadata": {
        "id": "Wn74CkwNI4Om"
      },
      "execution_count": null,
      "outputs": []
    },
    {
      "cell_type": "markdown",
      "source": [
        "### Kmeans Score"
      ],
      "metadata": {
        "id": "U-MsUjnAI4t6"
      }
    },
    {
      "cell_type": "code",
      "execution_count": null,
      "metadata": {
        "id": "TBIFCqNCDng7"
      },
      "outputs": [],
      "source": [
        "km.score(X[['Temperature', 'Humidity']])"
      ]
    },
    {
      "cell_type": "code",
      "execution_count": null,
      "metadata": {
        "id": "N4-ErWYADng7"
      },
      "outputs": [],
      "source": [
        "km.inertia_"
      ]
    },
    {
      "cell_type": "markdown",
      "metadata": {
        "collapsed": false,
        "id": "K3uPGmT-Dng7"
      },
      "source": [
        "### Select Number of K with Elbow method"
      ]
    },
    {
      "cell_type": "code",
      "execution_count": null,
      "metadata": {
        "id": "8jx1B2IiDng7"
      },
      "outputs": [],
      "source": [
        "from sklearn import metrics\n",
        "# k means determine k\n",
        "silScore = []\n",
        "cost = []\n",
        "K = range(1,10)\n",
        "X = df[['Temperature', 'Humidity']]\n",
        "for k in K:\n",
        "    kmeanModel = KMeans(n_clusters=k, n_init=10).fit(X)\n",
        "    kmeans = kmeanModel.fit(X)\n",
        "    cost.append(kmeans.inertia_/ X.shape[0])\n",
        "    if k > 1 : silScore.append(metrics.silhouette_score(X, kmeans.labels_))\n",
        "    # print(\"labels : \",  kmeans.labels_)\n",
        "\n",
        "\n",
        "# Plot the elbow\n",
        "plt.plot(K, cost, 'bx-')\n",
        "plt.xlabel('K')\n",
        "plt.ylabel('Cost')\n",
        "plt.title('The Elbow Method showing the optimal K')\n",
        "plt.show()"
      ]
    },
    {
      "cell_type": "code",
      "execution_count": null,
      "metadata": {
        "id": "slae5J6aDng8"
      },
      "outputs": [],
      "source": [
        "# Plot the elbow\n",
        "plt.plot(K[1:], silScore, 'bx-')\n",
        "plt.xlabel('K')\n",
        "plt.ylabel('Silhouette Score')\n",
        "plt.title('Silhouette Score Vs K ')\n",
        "plt.show()"
      ]
    },
    {
      "cell_type": "code",
      "execution_count": null,
      "metadata": {
        "id": "5ohwyLGyDng8"
      },
      "outputs": [],
      "source": [
        "# X"
      ]
    },
    {
      "cell_type": "markdown",
      "source": [
        "### สร้างข้อมูลจำลอง Xm เพื่อทดสอบ Kmean"
      ],
      "metadata": {
        "id": "tSKVfYWTncWh"
      }
    },
    {
      "cell_type": "code",
      "execution_count": null,
      "metadata": {
        "id": "GLsZTZkMDng9"
      },
      "outputs": [],
      "source": [
        "from sklearn.datasets import make_blobs\n",
        "from sklearn.preprocessing import StandardScaler\n",
        "\n",
        "centers = [[1, 1], [-1, -1], [1, -1]]\n",
        "Xm, labels_true = make_blobs(\n",
        "    n_samples=750, centers=centers, cluster_std=0.4, random_state=0\n",
        ")\n",
        "\n",
        "Xm = StandardScaler().fit_transform(X)"
      ]
    },
    {
      "cell_type": "code",
      "execution_count": null,
      "metadata": {
        "id": "8WpWpmXkDng9"
      },
      "outputs": [],
      "source": [
        "import matplotlib.pyplot as plt\n",
        "\n",
        "plt.scatter(Xm[:, 0], Xm[:, 1])\n",
        "plt.show()"
      ]
    },
    {
      "cell_type": "code",
      "source": [],
      "metadata": {
        "id": "Sn3dOFY3sw-A"
      },
      "execution_count": null,
      "outputs": []
    },
    {
      "cell_type": "code",
      "source": [],
      "metadata": {
        "id": "mvhGv2y8sw5Y"
      },
      "execution_count": null,
      "outputs": []
    },
    {
      "cell_type": "markdown",
      "source": [],
      "metadata": {
        "id": "pNhhvQGMnx4i"
      }
    },
    {
      "cell_type": "markdown",
      "metadata": {
        "collapsed": false,
        "id": "1gGLQ0b6Dng-"
      },
      "source": [
        "### Exercise 1\n",
        "ใช้ข้อมูล Iris เพื่อทำ Kmean และหา cluster centers"
      ]
    },
    {
      "cell_type": "code",
      "execution_count": null,
      "metadata": {
        "id": "Jl20cgtKDng_"
      },
      "outputs": [],
      "source": [
        "from sklearn import datasets\n",
        "X, y = datasets.load_iris(return_X_y=True)\n",
        "X.shape, y.shape"
      ]
    },
    {
      "cell_type": "code",
      "source": [],
      "metadata": {
        "id": "yN7j5dcaHcBD"
      },
      "execution_count": null,
      "outputs": []
    },
    {
      "cell_type": "code",
      "source": [],
      "metadata": {
        "id": "6i363D2KHb8x"
      },
      "execution_count": null,
      "outputs": []
    },
    {
      "cell_type": "code",
      "source": [],
      "metadata": {
        "id": "c6BQS0JmHb5X"
      },
      "execution_count": null,
      "outputs": []
    },
    {
      "cell_type": "markdown",
      "metadata": {
        "collapsed": false,
        "id": "NoxdN_ncDnhA"
      },
      "source": [
        "### Exercise 2\n",
        "จาก Exercise 1 จงแสดงกราฟ Cost vs Elbow เพื่อหาค่า k ที่ดีที่สุด"
      ]
    },
    {
      "cell_type": "code",
      "execution_count": null,
      "metadata": {
        "id": "b5dHksMnDnhB"
      },
      "outputs": [],
      "source": []
    },
    {
      "cell_type": "code",
      "source": [],
      "metadata": {
        "id": "Tzh1zOwpHXTN"
      },
      "execution_count": null,
      "outputs": []
    },
    {
      "cell_type": "code",
      "source": [],
      "metadata": {
        "id": "iniG15GTHXPl"
      },
      "execution_count": null,
      "outputs": []
    }
  ],
  "metadata": {
    "kernelspec": {
      "argv": [
        "/usr/bin/python3",
        "-m",
        "ipykernel",
        "--HistoryManager.enabled=False",
        "--matplotlib=inline",
        "-c",
        "%config InlineBackend.figure_formats = set(['retina'])\nimport matplotlib; matplotlib.rcParams['figure.figsize'] = (12, 7)",
        "-f",
        "{connection_file}"
      ],
      "display_name": "Python 3 (system-wide)",
      "env": {},
      "language": "python",
      "metadata": {
        "cocalc": {
          "description": "Python 3 programming language",
          "priority": 100,
          "url": "https://www.python.org/"
        }
      },
      "name": "python3",
      "resource_dir": "/ext/jupyter/kernels/python3"
    },
    "language_info": {
      "codemirror_mode": {
        "name": "ipython",
        "version": 3
      },
      "file_extension": ".py",
      "mimetype": "text/x-python",
      "name": "python",
      "nbconvert_exporter": "python",
      "pygments_lexer": "ipython3",
      "version": "3.10.12"
    },
    "colab": {
      "provenance": [],
      "include_colab_link": true
    }
  },
  "nbformat": 4,
  "nbformat_minor": 0
}