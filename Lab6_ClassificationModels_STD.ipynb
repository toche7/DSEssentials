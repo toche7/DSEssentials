{
  "cells": [
    {
      "cell_type": "markdown",
      "metadata": {
        "id": "view-in-github",
        "colab_type": "text"
      },
      "source": [
        "<a href=\"https://colab.research.google.com/github/toche7/DSEssentials/blob/main/Lab6_ClassificationModels_STD.ipynb\" target=\"_parent\"><img src=\"https://colab.research.google.com/assets/colab-badge.svg\" alt=\"Open In Colab\"/></a>"
      ]
    },
    {
      "cell_type": "markdown",
      "metadata": {
        "collapsed": false,
        "id": "9jIQYv-GwuzG"
      },
      "source": [
        "# Lab 6. Classification Models"
      ]
    },
    {
      "cell_type": "markdown",
      "metadata": {
        "collapsed": false,
        "id": "FDbtHuerwuzJ"
      },
      "source": [
        "version 001\n"
      ]
    },
    {
      "cell_type": "markdown",
      "metadata": {
        "collapsed": false,
        "id": "l-0aW6TOwuzK"
      },
      "source": [
        "Classification Models มีหลายนั้นมีมากมาย ใน lab นี้จะสรุปตัวหลักๆ เพื่อให้ได้รู้จักและได้ทดลองใช้กัน แต่ก่อนอื่นลองดูข้อมูลที่จะใช้ใน lab นี้กันก่อน\n"
      ]
    },
    {
      "cell_type": "markdown",
      "metadata": {
        "collapsed": false,
        "id": "6b4z1oQ4wuzK"
      },
      "source": []
    },
    {
      "cell_type": "code",
      "source": [],
      "metadata": {
        "id": "BRpqYAi-Xedg"
      },
      "execution_count": null,
      "outputs": []
    },
    {
      "cell_type": "code",
      "execution_count": null,
      "metadata": {
        "id": "UJtHnomGwuzK"
      },
      "outputs": [],
      "source": [
        "import numpy as np\n",
        "import matplotlib.pyplot as plt"
      ]
    },
    {
      "cell_type": "markdown",
      "source": [
        "นำเข้าข้อมูล admit.csv"
      ],
      "metadata": {
        "id": "8kMve1hw9ggs"
      }
    },
    {
      "cell_type": "code",
      "source": [
        "import pandas as pd\n",
        "data = pd.read_csv(\"https://raw.githubusercontent.com/toche7/DataSets/main/admit.csv\")\n",
        "y = data.Label\n",
        "X = data[['SubjectA','SubjectB']]"
      ],
      "metadata": {
        "id": "Xtkl9JMA2l57"
      },
      "execution_count": null,
      "outputs": []
    },
    {
      "cell_type": "code",
      "source": [
        "y"
      ],
      "metadata": {
        "id": "Q2FMRHNJ2l1R"
      },
      "execution_count": null,
      "outputs": []
    },
    {
      "cell_type": "code",
      "source": [
        "X"
      ],
      "metadata": {
        "id": "fxZjINeq2lyH"
      },
      "execution_count": null,
      "outputs": []
    },
    {
      "cell_type": "code",
      "source": [],
      "metadata": {
        "id": "MVX4cd3b2lu9"
      },
      "execution_count": null,
      "outputs": []
    },
    {
      "cell_type": "code",
      "source": [],
      "metadata": {
        "id": "L1_PBq-C2lrF"
      },
      "execution_count": null,
      "outputs": []
    },
    {
      "cell_type": "markdown",
      "source": [
        "แสดงกราฟด้วย pairplot"
      ],
      "metadata": {
        "id": "w9tm1K2S2xUm"
      }
    },
    {
      "cell_type": "code",
      "source": [
        "import seaborn as sns"
      ],
      "metadata": {
        "id": "swFdv0ShBt_A"
      },
      "execution_count": null,
      "outputs": []
    },
    {
      "cell_type": "code",
      "execution_count": null,
      "metadata": {
        "id": "WGd1a7NOwuzN"
      },
      "outputs": [],
      "source": [
        "sns.pairplot(data,hue= 'Label')"
      ]
    },
    {
      "cell_type": "code",
      "source": [],
      "metadata": {
        "id": "5inVTdkY28xY"
      },
      "execution_count": null,
      "outputs": []
    },
    {
      "cell_type": "code",
      "source": [],
      "metadata": {
        "id": "rRss7bnr28tO"
      },
      "execution_count": null,
      "outputs": []
    },
    {
      "cell_type": "code",
      "source": [],
      "metadata": {
        "id": "vybiTzyC28p4"
      },
      "execution_count": null,
      "outputs": []
    },
    {
      "cell_type": "code",
      "source": [],
      "metadata": {
        "id": "KQjcxZL628mt"
      },
      "execution_count": null,
      "outputs": []
    },
    {
      "cell_type": "code",
      "source": [],
      "metadata": {
        "id": "suAUvMkO28jI"
      },
      "execution_count": null,
      "outputs": []
    },
    {
      "cell_type": "markdown",
      "metadata": {
        "collapsed": false,
        "id": "9iByTPRgwuzO"
      },
      "source": [
        "## Neural Network\n",
        "\n",
        "Model Theory\n",
        "https://scikit-learn.org/stable/modules/neural_networks_supervised.html#neural-networks-supervised\n",
        "\n",
        "Library Details\n",
        "https://scikit-learn.org/stable/modules/generated/sklearn.neural_network.MLPClassifier.html"
      ]
    },
    {
      "cell_type": "markdown",
      "metadata": {
        "collapsed": false,
        "id": "G_h3DpVDwuzO"
      },
      "source": [
        "ตัวแปรสำคัญในการใช้ model\n",
        "* solver : เป็นพารามิเตอร์ที่ใช้ กำหนดอัลกอริทึมในการทำ  optimisation\n",
        "* alpha : เป็นสเต็ปในการปรับค่าพารามิเตอร์ของโมเดลในขณะที่ทำ optimisation\n",
        "* hidden_layer_sizes : เป็นขนาดของ Hidden เลเยอร์ในเน็ตเวิร์คในแบบจำลอง\n",
        "* random_state : กำหนดค่าเริ่มต้นให้กับ การสร้างการสุ่มในการจัดเรียงข้อมูล\n",
        "* max_iter : จำนวนรอบในการฝึกแบบจำลอง"
      ]
    },
    {
      "cell_type": "code",
      "execution_count": null,
      "metadata": {
        "id": "YOBmZ_SywuzO"
      },
      "outputs": [],
      "source": [
        "from sklearn.neural_network import MLPClassifier\n",
        "nn = MLPClassifier(solver='lbfgs', alpha=1e-5,\n",
        "                   hidden_layer_sizes=(10,),\n",
        "                   random_state= 10,\n",
        "                   max_iter = 1000)\n"
      ]
    },
    {
      "cell_type": "code",
      "execution_count": null,
      "metadata": {
        "id": "06Da5auxwuzO"
      },
      "outputs": [],
      "source": [
        "nn.fit(X, y)"
      ]
    },
    {
      "cell_type": "code",
      "source": [],
      "metadata": {
        "id": "AwEMk-j73Kwv"
      },
      "execution_count": null,
      "outputs": []
    },
    {
      "cell_type": "code",
      "source": [],
      "metadata": {
        "id": "Ay_RGZlY3KuA"
      },
      "execution_count": null,
      "outputs": []
    },
    {
      "cell_type": "code",
      "execution_count": null,
      "metadata": {
        "id": "g-9TezzzwuzP"
      },
      "outputs": [],
      "source": [
        "nn.predict(X)"
      ]
    },
    {
      "cell_type": "code",
      "source": [],
      "metadata": {
        "id": "WWo6urqI3LT2"
      },
      "execution_count": null,
      "outputs": []
    },
    {
      "cell_type": "code",
      "source": [],
      "metadata": {
        "id": "86-gDgXh3LP-"
      },
      "execution_count": null,
      "outputs": []
    },
    {
      "cell_type": "code",
      "execution_count": null,
      "metadata": {
        "id": "k6XgbRfxwuzP"
      },
      "outputs": [],
      "source": [
        "nn.score(X,y)"
      ]
    },
    {
      "cell_type": "code",
      "execution_count": null,
      "metadata": {
        "id": "8NPUuB2HwuzP"
      },
      "outputs": [],
      "source": []
    },
    {
      "cell_type": "markdown",
      "metadata": {
        "collapsed": false,
        "id": "i_WlGxFBwuzP"
      },
      "source": [
        "## Support Vector Machine (SVM)"
      ]
    },
    {
      "cell_type": "markdown",
      "metadata": {
        "collapsed": false,
        "id": "KG1dLXySwuzQ"
      },
      "source": [
        "Model Theory\n",
        "https://scikit-learn.org/stable/modules/svm.html\n",
        "\n",
        "Library Details\n",
        "https://scikit-learn.org/stable/modules/generated/sklearn.svm.SVC.html\n"
      ]
    },
    {
      "cell_type": "markdown",
      "metadata": {
        "collapsed": false,
        "id": "rBeAxxscwuzQ"
      },
      "source": [
        "ตัวแปรที่สำคัญ\n",
        "\n",
        "* C: เป็นพารามิเตอร์ที่ใช้ควบคุมความไวในการเกิด overfitting  มีค่า default = 1.0\n",
        "* kernel : ตัวที่ใช้กำหนดชนิดของ kernel ในการฝึกแบบจำลอง  มีค่า defualt = 'rbf'.  {‘linear’, ‘poly’, ‘rbf’, ‘sigmoid’, ‘precomputed’}"
      ]
    },
    {
      "cell_type": "code",
      "execution_count": null,
      "metadata": {
        "id": "xYNoi3jOwuzQ"
      },
      "outputs": [],
      "source": [
        "from sklearn.svm import SVC\n",
        "svc = SVC()"
      ]
    },
    {
      "cell_type": "code",
      "source": [
        "svc.fit(X,y)\n",
        "svc.score(X,y)"
      ],
      "metadata": {
        "id": "oiEyiHr33P-i"
      },
      "execution_count": null,
      "outputs": []
    },
    {
      "cell_type": "code",
      "source": [],
      "metadata": {
        "id": "3bu1xiWY3P7N"
      },
      "execution_count": null,
      "outputs": []
    },
    {
      "cell_type": "code",
      "source": [],
      "metadata": {
        "id": "tqxNZzBE3P4K"
      },
      "execution_count": null,
      "outputs": []
    },
    {
      "cell_type": "markdown",
      "metadata": {
        "collapsed": false,
        "id": "VpmFdd0pwuzQ"
      },
      "source": [
        "## K-Nearest Neighbors (KNN)"
      ]
    },
    {
      "cell_type": "markdown",
      "metadata": {
        "collapsed": false,
        "id": "Y3vO2-2BwuzR"
      },
      "source": [
        "Model Theory\n",
        "https://scikit-learn.org/stable/modules/neighbors.html#classification\n",
        "\n",
        "Library Details\n",
        "https://scikit-learn.org/stable/modules/generated/sklearn.neighbors.KNeighborsClassifier.html"
      ]
    },
    {
      "cell_type": "markdown",
      "metadata": {
        "collapsed": false,
        "id": "n6Htt8p1wuzR"
      },
      "source": [
        "ตัวแปรที่สำคัญ\n",
        "\n",
        "* n_neighbors : จำนวนของสมาชิกข้างเคียงที่ใช้ในการคำนวณ  default= 5, int"
      ]
    },
    {
      "cell_type": "code",
      "execution_count": null,
      "metadata": {
        "id": "HKlYGW5twuzR"
      },
      "outputs": [],
      "source": [
        "from sklearn.neighbors import KNeighborsClassifier\n",
        "knn = KNeighborsClassifier()"
      ]
    },
    {
      "cell_type": "markdown",
      "source": [],
      "metadata": {
        "id": "7Sn0jSYQDSrZ"
      }
    },
    {
      "cell_type": "code",
      "execution_count": null,
      "metadata": {
        "id": "Q0dfy23SwuzR"
      },
      "outputs": [],
      "source": [
        "knn.fit(X,y)\n",
        "knn.score(X,y)"
      ]
    },
    {
      "cell_type": "code",
      "source": [],
      "metadata": {
        "id": "zeah2QvI3Xie"
      },
      "execution_count": null,
      "outputs": []
    },
    {
      "cell_type": "code",
      "source": [],
      "metadata": {
        "id": "mZqz_cMN3Xfi"
      },
      "execution_count": null,
      "outputs": []
    },
    {
      "cell_type": "code",
      "source": [],
      "metadata": {
        "id": "U7Jz9nNL3Xcv"
      },
      "execution_count": null,
      "outputs": []
    },
    {
      "cell_type": "code",
      "source": [],
      "metadata": {
        "id": "bWNDzQYp3XZF"
      },
      "execution_count": null,
      "outputs": []
    },
    {
      "cell_type": "markdown",
      "metadata": {
        "collapsed": false,
        "id": "vZrKTfj5wuzS"
      },
      "source": [
        "## Naive Bayes\n",
        "\n",
        "Model Theory\n",
        "https://scikit-learn.org/stable/modules/naive_bayes.html#gaussian-naive-bayes\n",
        "\n",
        "Library Details\n",
        "https://scikit-learn.org/stable/modules/generated/sklearn.naive_bayes.GaussianNB.html"
      ]
    },
    {
      "cell_type": "markdown",
      "metadata": {
        "collapsed": false,
        "id": "Z6s34gl-wuzS"
      },
      "source": [
        "ตัวแปรที่สำคัญ\n",
        "* None"
      ]
    },
    {
      "cell_type": "code",
      "execution_count": null,
      "metadata": {
        "id": "K229TVr9wuzS"
      },
      "outputs": [],
      "source": [
        "from sklearn.naive_bayes import GaussianNB\n",
        "gnb = GaussianNB()"
      ]
    },
    {
      "cell_type": "code",
      "execution_count": null,
      "metadata": {
        "id": "4cMkkI4FwuzT"
      },
      "outputs": [],
      "source": [
        "gnb.fit(X,y)\n",
        "gnb.score(X,y)"
      ]
    },
    {
      "cell_type": "code",
      "execution_count": null,
      "metadata": {
        "id": "oJSS_iqIwuzT"
      },
      "outputs": [],
      "source": []
    },
    {
      "cell_type": "markdown",
      "source": [
        "# Random Forests\n"
      ],
      "metadata": {
        "id": "-CQk0Awo4rZc"
      }
    },
    {
      "cell_type": "markdown",
      "source": [
        "https://scikit-learn.org/stable/modules/ensemble.html#random-forests-and-other-randomized-tree-ensembles"
      ],
      "metadata": {
        "id": "vIOkTgTY4_49"
      }
    },
    {
      "cell_type": "code",
      "source": [
        "from sklearn.ensemble import RandomForestClassifier\n",
        "clf = RandomForestClassifier(n_estimators=10, random_state= 0)\n",
        "clf = clf.fit(X, y)\n",
        "clf.score(X,y)"
      ],
      "metadata": {
        "id": "o3V0nk0-Dn7_"
      },
      "execution_count": null,
      "outputs": []
    },
    {
      "cell_type": "markdown",
      "source": [
        "## Gradient Boosted Trees\n",
        "\n",
        "https://scikit-learn.org/stable/modules/ensemble.html#gradient-boosted-trees"
      ],
      "metadata": {
        "id": "-JSpl3Fd6ufI"
      }
    },
    {
      "cell_type": "code",
      "source": [
        "from sklearn.ensemble import HistGradientBoostingClassifier\n",
        "clf = HistGradientBoostingClassifier(max_iter=100)\n",
        "clf.fit(X,y)\n",
        "clf.score(X,y)"
      ],
      "metadata": {
        "id": "O0UgxT4T6aGW"
      },
      "execution_count": null,
      "outputs": []
    },
    {
      "cell_type": "markdown",
      "metadata": {
        "collapsed": false,
        "id": "vl3XSWhYwuzT"
      },
      "source": [
        "## Confusion Matrix"
      ]
    },
    {
      "cell_type": "markdown",
      "metadata": {
        "collapsed": false,
        "id": "0BXtGyFvwuzU"
      },
      "source": [
        "https://scikit-learn.org/stable/modules/generated/sklearn.metrics.confusion_matrix.html\n",
        "\n",
        "\n",
        "micro and macro average\n",
        "\n",
        "https://www.educative.io/answers/what-is-the-difference-between-micro-and-macro-averaging"
      ]
    },
    {
      "cell_type": "code",
      "execution_count": null,
      "metadata": {
        "id": "xutdGmv8wuzU"
      },
      "outputs": [],
      "source": [
        "import matplotlib.pyplot as plt\n",
        "from sklearn.datasets import make_classification\n",
        "from sklearn.metrics import confusion_matrix, ConfusionMatrixDisplay\n",
        "from sklearn.naive_bayes import GaussianNB\n",
        "gnb = GaussianNB()\n",
        "\n",
        "gnb.fit(X,y)  # Change the model here\n",
        "predictions = gnb.predict(X) #\n",
        "\n",
        "cm = confusion_matrix(y, predictions, labels=gnb.classes_)\n",
        "disp = ConfusionMatrixDisplay(confusion_matrix=cm, display_labels=gnb.classes_)\n",
        "disp.plot()\n",
        "plt.show()"
      ]
    },
    {
      "cell_type": "code",
      "execution_count": null,
      "metadata": {
        "id": "khm3vEWrwuzU"
      },
      "outputs": [],
      "source": [
        "from sklearn.metrics import precision_recall_fscore_support"
      ]
    },
    {
      "cell_type": "code",
      "execution_count": null,
      "metadata": {
        "id": "WDXXIL6iwuzV"
      },
      "outputs": [],
      "source": [
        "precision_recall_fscore_support(y,predictions, average='micro')"
      ]
    },
    {
      "cell_type": "code",
      "execution_count": null,
      "metadata": {
        "id": "ysJdYOEhwuzV"
      },
      "outputs": [],
      "source": [
        "## Precision as micro average\n",
        "(57 + 36)/(60 + 40)"
      ]
    },
    {
      "cell_type": "code",
      "execution_count": null,
      "metadata": {
        "id": "VdUdH2apwuzW"
      },
      "outputs": [],
      "source": [
        "precision_recall_fscore_support(y,predictions, average='binary')"
      ]
    },
    {
      "cell_type": "code",
      "execution_count": null,
      "metadata": {
        "id": "pG-u2KoAwuzW"
      },
      "outputs": [],
      "source": [
        "# Precision as binary\n",
        "57/61"
      ]
    },
    {
      "cell_type": "code",
      "execution_count": null,
      "metadata": {
        "id": "bN2h8yrlwuzW"
      },
      "outputs": [],
      "source": [
        "precision_recall_fscore_support(y,predictions, average='macro')"
      ]
    },
    {
      "cell_type": "code",
      "execution_count": null,
      "metadata": {
        "id": "cTdN8kUmwuzW"
      },
      "outputs": [],
      "source": [
        "## Precision as macro average\n",
        "((57/61)+(36/39))/2"
      ]
    },
    {
      "cell_type": "markdown",
      "metadata": {
        "collapsed": false,
        "id": "uo75TadiwuzX"
      },
      "source": []
    },
    {
      "cell_type": "markdown",
      "metadata": {
        "collapsed": false,
        "id": "lPZ6e97RwuzX"
      },
      "source": [
        "## Exercise 1"
      ]
    },
    {
      "cell_type": "markdown",
      "metadata": {
        "collapsed": false,
        "id": "GlX2ox6WwuzX"
      },
      "source": [
        "#### Ex. 1.1  \n",
        "จงใช้ข้อมูล Iris เพื่อทำสร้างแบบจำลองต่อไปนี้"
      ]
    },
    {
      "cell_type": "code",
      "execution_count": null,
      "metadata": {
        "id": "zFjiEzU-wuzX"
      },
      "outputs": [],
      "source": [
        "from sklearn.datasets import load_iris\n",
        "iris = load_iris()"
      ]
    },
    {
      "cell_type": "markdown",
      "metadata": {
        "collapsed": false,
        "id": "ELL0WoTZwuzX"
      },
      "source": [
        "#### Ex. 1.1\n",
        "จงเตรียมข้อมูลเพื่อการสร้างแบบจำลอง โดยให้เก็บข้อมูลอยู่ในรูปแบบของ numpy array โดย X เป็น data และ y เก็บค่า  target\n"
      ]
    },
    {
      "cell_type": "code",
      "source": [],
      "metadata": {
        "id": "pEvy_p558lLz"
      },
      "execution_count": null,
      "outputs": []
    },
    {
      "cell_type": "code",
      "source": [],
      "metadata": {
        "id": "hLZYq-1y8lI0"
      },
      "execution_count": null,
      "outputs": []
    },
    {
      "cell_type": "code",
      "source": [],
      "metadata": {
        "id": "09W9gRdG8lFS"
      },
      "execution_count": null,
      "outputs": []
    },
    {
      "cell_type": "markdown",
      "metadata": {
        "collapsed": false,
        "id": "b8xYKgYTwuzY"
      },
      "source": [
        "### Ex. 1.2\n",
        "จงสร้างและฝึกโมเดล Neuron Network  ที่มี  hidden layer size =  (10 ,10)\n"
      ]
    },
    {
      "cell_type": "code",
      "source": [],
      "metadata": {
        "id": "ZxCIDUeo8RFF"
      },
      "execution_count": null,
      "outputs": []
    },
    {
      "cell_type": "code",
      "source": [],
      "metadata": {
        "id": "yvMb2Jmy8Q_8"
      },
      "execution_count": null,
      "outputs": []
    },
    {
      "cell_type": "code",
      "execution_count": null,
      "metadata": {
        "id": "mqeCAwS4wuzY"
      },
      "outputs": [],
      "source": [
        "\n"
      ]
    },
    {
      "cell_type": "markdown",
      "metadata": {
        "collapsed": false,
        "id": "g-xWisYzwuzZ"
      },
      "source": [
        "### Ex. 1.3|\n",
        "จงสร้างและฝึกโมเดล SVM ที่มีค่า C = 2"
      ]
    },
    {
      "cell_type": "code",
      "source": [],
      "metadata": {
        "id": "Cbnm4bU68Whf"
      },
      "execution_count": null,
      "outputs": []
    },
    {
      "cell_type": "code",
      "source": [],
      "metadata": {
        "id": "NJEfmbTq8WeS"
      },
      "execution_count": null,
      "outputs": []
    },
    {
      "cell_type": "code",
      "source": [],
      "metadata": {
        "id": "ZjLnV9Vo8Way"
      },
      "execution_count": null,
      "outputs": []
    },
    {
      "cell_type": "markdown",
      "metadata": {
        "collapsed": false,
        "id": "c63ldZGnwuzZ"
      },
      "source": [
        "### Ex. 1.4\n",
        "จงคำนวณค่า Precesion, Recall และค่า F1 Score ของ Neural Network Model แบบ macro"
      ]
    },
    {
      "cell_type": "code",
      "source": [],
      "metadata": {
        "id": "RNQ6cdf58nSV"
      },
      "execution_count": null,
      "outputs": []
    },
    {
      "cell_type": "code",
      "source": [],
      "metadata": {
        "id": "E-0Odpic8nO8"
      },
      "execution_count": null,
      "outputs": []
    },
    {
      "cell_type": "code",
      "source": [],
      "metadata": {
        "id": "L6WOtzvb8nLl"
      },
      "execution_count": null,
      "outputs": []
    },
    {
      "cell_type": "markdown",
      "metadata": {
        "collapsed": false,
        "id": "HjqUEElXwuza"
      },
      "source": []
    }
  ],
  "metadata": {
    "kernelspec": {
      "argv": [
        "/usr/bin/python3",
        "-m",
        "ipykernel",
        "--HistoryManager.enabled=False",
        "--matplotlib=inline",
        "-c",
        "%config InlineBackend.figure_formats = set(['retina'])\nimport matplotlib; matplotlib.rcParams['figure.figsize'] = (12, 7)",
        "-f",
        "{connection_file}"
      ],
      "display_name": "Python 3 (system-wide)",
      "env": {},
      "language": "python",
      "metadata": {
        "cocalc": {
          "description": "Python 3 programming language",
          "priority": 100,
          "url": "https://www.python.org/"
        }
      },
      "name": "python3",
      "resource_dir": "/ext/jupyter/kernels/python3"
    },
    "language_info": {
      "codemirror_mode": {
        "name": "ipython",
        "version": 3
      },
      "file_extension": ".py",
      "mimetype": "text/x-python",
      "name": "python",
      "nbconvert_exporter": "python",
      "pygments_lexer": "ipython3",
      "version": "3.10.12"
    },
    "nbgrader": {
      "cocalc_minimal_stubs": false
    },
    "colab": {
      "provenance": [],
      "include_colab_link": true
    }
  },
  "nbformat": 4,
  "nbformat_minor": 0
}