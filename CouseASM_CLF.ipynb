{
  "nbformat": 4,
  "nbformat_minor": 0,
  "metadata": {
    "colab": {
      "provenance": [],
      "authorship_tag": "ABX9TyNLbeVhkSXC2Kgc3P74FY/B",
      "include_colab_link": true
    },
    "kernelspec": {
      "name": "python3",
      "display_name": "Python 3"
    },
    "language_info": {
      "name": "python"
    }
  },
  "cells": [
    {
      "cell_type": "markdown",
      "metadata": {
        "id": "view-in-github",
        "colab_type": "text"
      },
      "source": [
        "<a href=\"https://colab.research.google.com/github/toche7/DSEssentials/blob/main/CouseASM_CLF.ipynb\" target=\"_parent\"><img src=\"https://colab.research.google.com/assets/colab-badge.svg\" alt=\"Open In Colab\"/></a>"
      ]
    },
    {
      "cell_type": "markdown",
      "source": [
        "## ML with Python\n",
        "## Course Assignment\n",
        "คำสั่ง\n",
        "\n",
        "1. จงใช้ข้อมูลที่เตรียมไว้จาก code ด้านล่างนี้เพื่อสร้าง model ที่ดีที่สุด\n",
        "\n",
        "2. เมื่อทำเสร็จแล้วก็ให้ ส่งเอกสารนี้กลับไปใน Google Classroom พร้อมแชร์สิทธิการเข้าถึงเอกสาร\n",
        "\n",
        "3. ให้เพิ่มข้อมูลผู้เข้าอบรมในเอกสารนี้\n",
        "\n",
        "* ชื่อ-สกุล :\n",
        "\n",
        "* email :\n",
        "      \n"
      ],
      "metadata": {
        "id": "KZlxMtTWAw0w"
      }
    },
    {
      "cell_type": "code",
      "execution_count": null,
      "metadata": {
        "colab": {
          "base_uri": "https://localhost:8080/"
        },
        "id": "d7EPTJ2eAjOe",
        "outputId": "cc61246f-fd15-4b13-f342-da926c708434"
      },
      "outputs": [
        {
          "output_type": "execute_result",
          "data": {
            "text/plain": [
              "((442, 10), (442,))"
            ]
          },
          "metadata": {},
          "execution_count": 4
        }
      ],
      "source": [
        "from sklearn import datasets\n",
        "X,y = datasets.load_diabetes(return_X_y=True)\n",
        "X.shape, y.shape"
      ]
    },
    {
      "cell_type": "markdown",
      "source": [],
      "metadata": {
        "id": "9jDmqXeZAwFy"
      }
    },
    {
      "cell_type": "code",
      "source": [],
      "metadata": {
        "id": "9zBQFwRXeQbQ"
      },
      "execution_count": null,
      "outputs": []
    }
  ]
}